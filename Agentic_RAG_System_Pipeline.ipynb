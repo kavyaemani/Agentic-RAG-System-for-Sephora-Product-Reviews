{
  "cells": [
    {
      "cell_type": "markdown",
      "metadata": {
        "colab_type": "text",
        "id": "view-in-github"
      },
      "source": [
        "<a href=\"https://colab.research.google.com/github/NUMLDS/stitching-project-Eleanorhhhyxz/blob/main/(Complete)%20Stitching_Pipeline.ipynb\" target=\"_parent\"><img src=\"https://colab.research.google.com/assets/colab-badge.svg\" alt=\"Open In Colab\"/></a>"
      ]
    },
    {
      "cell_type": "code",
      "execution_count": 3,
      "metadata": {
        "colab": {
          "base_uri": "https://localhost:8080/"
        },
        "id": "y7YjBs9rzDeJ",
        "outputId": "396bc854-4c17-46d8-b922-c8cf62e09b18"
      },
      "outputs": [
        {
          "name": "stderr",
          "output_type": "stream",
          "text": [
            "WARNING:langchain_community.utils.user_agent:USER_AGENT environment variable not set, consider setting it to identify your requests.\n"
          ]
        }
      ],
      "source": [
        "import os\n",
        "import numpy as np\n",
        "import pandas as pd\n",
        "from datetime import datetime\n",
        "import time\n",
        "import kagglehub\n",
        "from tqdm import tqdm\n",
        "from typing import List\n",
        "from typing_extensions import TypedDict\n",
        "from pprint import pprint\n",
        "from IPython.display import Image, display\n",
        "import pinecone\n",
        "from langchain.embeddings import OpenAIEmbeddings\n",
        "from langchain_openai import ChatOpenAI\n",
        "from langchain import hub\n",
        "from langchain.text_splitter import RecursiveCharacterTextSplitter\n",
        "from langchain_community.document_loaders import WebBaseLoader\n",
        "from langchain_community.vectorstores import Chroma\n",
        "from langchain.embeddings import OpenAIEmbeddings\n",
        "from langchain_openai import ChatOpenAI\n",
        "from pydantic import BaseModel, Field\n",
        "from langchain import hub\n",
        "from langchain_core.prompts import ChatPromptTemplate\n",
        "from langchain_core.output_parsers import StrOutputParser\n",
        "from langchain_core.runnables.graph import CurveStyle, MermaidDrawMethod, NodeStyles\n",
        "from langgraph.graph import Graph, END, StateGraph, START"
      ]
    },
    {
      "cell_type": "markdown",
      "metadata": {
        "id": "lCW3jmvKtqzG"
      },
      "source": [
        "# Data Pipeline"
      ]
    },
    {
      "cell_type": "markdown",
      "metadata": {
        "id": "Xmmc1y8HpbID"
      },
      "source": [
        "### Load in the saved dataset"
      ]
    },
    {
      "cell_type": "code",
      "execution_count": 3,
      "metadata": {
        "colab": {
          "base_uri": "https://localhost:8080/",
          "height": 1000
        },
        "id": "u0I5t3NMJ0tI",
        "outputId": "205a3042-7240-4c2c-aafe-290c973b9337"
      },
      "outputs": [
        {
          "name": "stderr",
          "output_type": "stream",
          "text": [
            "<ipython-input-3-70fa84edd852>:3: DtypeWarning: Columns (0) have mixed types. Specify dtype option on import or set low_memory=False.\n",
            "  filtered_reviews = pd.read_csv(\"/content/drive/MyDrive/Datasets/filtered_reviews.csv\")\n"
          ]
        },
        {
          "data": {
            "application/vnd.google.colaboratory.intrinsic+json": {
              "type": "dataframe",
              "variable_name": "filtered_reviews"
            },
            "text/html": [
              "\n",
              "  <div id=\"df-825f7242-0696-4748-933a-ab85f7f7b9a8\" class=\"colab-df-container\">\n",
              "    <div>\n",
              "<style scoped>\n",
              "    .dataframe tbody tr th:only-of-type {\n",
              "        vertical-align: middle;\n",
              "    }\n",
              "\n",
              "    .dataframe tbody tr th {\n",
              "        vertical-align: top;\n",
              "    }\n",
              "\n",
              "    .dataframe thead th {\n",
              "        text-align: right;\n",
              "    }\n",
              "</style>\n",
              "<table border=\"1\" class=\"dataframe\">\n",
              "  <thead>\n",
              "    <tr style=\"text-align: right;\">\n",
              "      <th></th>\n",
              "      <th>author_id</th>\n",
              "      <th>rating</th>\n",
              "      <th>is_recommended</th>\n",
              "      <th>helpfulness</th>\n",
              "      <th>total_feedback_count</th>\n",
              "      <th>total_neg_feedback_count</th>\n",
              "      <th>total_pos_feedback_count</th>\n",
              "      <th>submission_time</th>\n",
              "      <th>review_text</th>\n",
              "      <th>review_title</th>\n",
              "      <th>skin_tone</th>\n",
              "      <th>eye_color</th>\n",
              "      <th>skin_type</th>\n",
              "      <th>hair_color</th>\n",
              "      <th>product_id</th>\n",
              "      <th>product_name</th>\n",
              "      <th>brand_name</th>\n",
              "      <th>price_usd</th>\n",
              "    </tr>\n",
              "  </thead>\n",
              "  <tbody>\n",
              "    <tr>\n",
              "      <th>0</th>\n",
              "      <td>1741593524</td>\n",
              "      <td>5</td>\n",
              "      <td>1.0</td>\n",
              "      <td>1.0</td>\n",
              "      <td>2</td>\n",
              "      <td>0</td>\n",
              "      <td>2</td>\n",
              "      <td>2023-02-01</td>\n",
              "      <td>I use this with the Nudestix “Citrus Clean Bal...</td>\n",
              "      <td>Taught me how to double cleanse!</td>\n",
              "      <td>NaN</td>\n",
              "      <td>brown</td>\n",
              "      <td>dry</td>\n",
              "      <td>black</td>\n",
              "      <td>P504322</td>\n",
              "      <td>Gentle Hydra-Gel Face Cleanser</td>\n",
              "      <td>NUDESTIX</td>\n",
              "      <td>19.0</td>\n",
              "    </tr>\n",
              "    <tr>\n",
              "      <th>1</th>\n",
              "      <td>31423088263</td>\n",
              "      <td>1</td>\n",
              "      <td>0.0</td>\n",
              "      <td>NaN</td>\n",
              "      <td>0</td>\n",
              "      <td>0</td>\n",
              "      <td>0</td>\n",
              "      <td>2023-03-21</td>\n",
              "      <td>I bought this lip mask after reading the revie...</td>\n",
              "      <td>Disappointed</td>\n",
              "      <td>NaN</td>\n",
              "      <td>NaN</td>\n",
              "      <td>NaN</td>\n",
              "      <td>NaN</td>\n",
              "      <td>P420652</td>\n",
              "      <td>Lip Sleeping Mask Intense Hydration with Vitam...</td>\n",
              "      <td>LANEIGE</td>\n",
              "      <td>24.0</td>\n",
              "    </tr>\n",
              "    <tr>\n",
              "      <th>2</th>\n",
              "      <td>5061282401</td>\n",
              "      <td>5</td>\n",
              "      <td>1.0</td>\n",
              "      <td>NaN</td>\n",
              "      <td>0</td>\n",
              "      <td>0</td>\n",
              "      <td>0</td>\n",
              "      <td>2023-03-21</td>\n",
              "      <td>My review title says it all! I get so excited ...</td>\n",
              "      <td>New Favorite Routine</td>\n",
              "      <td>light</td>\n",
              "      <td>brown</td>\n",
              "      <td>dry</td>\n",
              "      <td>blonde</td>\n",
              "      <td>P420652</td>\n",
              "      <td>Lip Sleeping Mask Intense Hydration with Vitam...</td>\n",
              "      <td>LANEIGE</td>\n",
              "      <td>24.0</td>\n",
              "    </tr>\n",
              "    <tr>\n",
              "      <th>3</th>\n",
              "      <td>6083038851</td>\n",
              "      <td>5</td>\n",
              "      <td>1.0</td>\n",
              "      <td>NaN</td>\n",
              "      <td>0</td>\n",
              "      <td>0</td>\n",
              "      <td>0</td>\n",
              "      <td>2023-03-20</td>\n",
              "      <td>I’ve always loved this formula for a long time...</td>\n",
              "      <td>Can't go wrong with any of them</td>\n",
              "      <td>NaN</td>\n",
              "      <td>brown</td>\n",
              "      <td>combination</td>\n",
              "      <td>black</td>\n",
              "      <td>P420652</td>\n",
              "      <td>Lip Sleeping Mask Intense Hydration with Vitam...</td>\n",
              "      <td>LANEIGE</td>\n",
              "      <td>24.0</td>\n",
              "    </tr>\n",
              "    <tr>\n",
              "      <th>4</th>\n",
              "      <td>47056667835</td>\n",
              "      <td>5</td>\n",
              "      <td>1.0</td>\n",
              "      <td>NaN</td>\n",
              "      <td>0</td>\n",
              "      <td>0</td>\n",
              "      <td>0</td>\n",
              "      <td>2023-03-20</td>\n",
              "      <td>If you have dry cracked lips, this is a must h...</td>\n",
              "      <td>A must have !!!</td>\n",
              "      <td>light</td>\n",
              "      <td>hazel</td>\n",
              "      <td>combination</td>\n",
              "      <td>NaN</td>\n",
              "      <td>P420652</td>\n",
              "      <td>Lip Sleeping Mask Intense Hydration with Vitam...</td>\n",
              "      <td>LANEIGE</td>\n",
              "      <td>24.0</td>\n",
              "    </tr>\n",
              "    <tr>\n",
              "      <th>...</th>\n",
              "      <td>...</td>\n",
              "      <td>...</td>\n",
              "      <td>...</td>\n",
              "      <td>...</td>\n",
              "      <td>...</td>\n",
              "      <td>...</td>\n",
              "      <td>...</td>\n",
              "      <td>...</td>\n",
              "      <td>...</td>\n",
              "      <td>...</td>\n",
              "      <td>...</td>\n",
              "      <td>...</td>\n",
              "      <td>...</td>\n",
              "      <td>...</td>\n",
              "      <td>...</td>\n",
              "      <td>...</td>\n",
              "      <td>...</td>\n",
              "      <td>...</td>\n",
              "    </tr>\n",
              "    <tr>\n",
              "      <th>280134</th>\n",
              "      <td>2276253200</td>\n",
              "      <td>5</td>\n",
              "      <td>1.0</td>\n",
              "      <td>NaN</td>\n",
              "      <td>0</td>\n",
              "      <td>0</td>\n",
              "      <td>0</td>\n",
              "      <td>2023-03-13</td>\n",
              "      <td>Consider salicylic acid your secret weapon for...</td>\n",
              "      <td>NaN</td>\n",
              "      <td>fair</td>\n",
              "      <td>brown</td>\n",
              "      <td>combination</td>\n",
              "      <td>NaN</td>\n",
              "      <td>P505392</td>\n",
              "      <td>Multi Action Clear Acne Clearing Treatment Lot...</td>\n",
              "      <td>StriVectin</td>\n",
              "      <td>49.0</td>\n",
              "    </tr>\n",
              "    <tr>\n",
              "      <th>280135</th>\n",
              "      <td>28013163278</td>\n",
              "      <td>5</td>\n",
              "      <td>1.0</td>\n",
              "      <td>NaN</td>\n",
              "      <td>0</td>\n",
              "      <td>0</td>\n",
              "      <td>0</td>\n",
              "      <td>2023-03-13</td>\n",
              "      <td>I’ve been using this as my only moisturizer fo...</td>\n",
              "      <td>NaN</td>\n",
              "      <td>NaN</td>\n",
              "      <td>blue</td>\n",
              "      <td>combination</td>\n",
              "      <td>blonde</td>\n",
              "      <td>P505392</td>\n",
              "      <td>Multi Action Clear Acne Clearing Treatment Lot...</td>\n",
              "      <td>StriVectin</td>\n",
              "      <td>49.0</td>\n",
              "    </tr>\n",
              "    <tr>\n",
              "      <th>280136</th>\n",
              "      <td>1539813076</td>\n",
              "      <td>5</td>\n",
              "      <td>1.0</td>\n",
              "      <td>NaN</td>\n",
              "      <td>0</td>\n",
              "      <td>0</td>\n",
              "      <td>0</td>\n",
              "      <td>2023-03-13</td>\n",
              "      <td>I got breakouts whenever it’s my time of month...</td>\n",
              "      <td>NaN</td>\n",
              "      <td>light</td>\n",
              "      <td>blue</td>\n",
              "      <td>combination</td>\n",
              "      <td>blonde</td>\n",
              "      <td>P505392</td>\n",
              "      <td>Multi Action Clear Acne Clearing Treatment Lot...</td>\n",
              "      <td>StriVectin</td>\n",
              "      <td>49.0</td>\n",
              "    </tr>\n",
              "    <tr>\n",
              "      <th>280137</th>\n",
              "      <td>5595682861</td>\n",
              "      <td>5</td>\n",
              "      <td>1.0</td>\n",
              "      <td>NaN</td>\n",
              "      <td>0</td>\n",
              "      <td>0</td>\n",
              "      <td>0</td>\n",
              "      <td>2023-03-13</td>\n",
              "      <td>I love this!!! I don’t get actual acne just an...</td>\n",
              "      <td>NaN</td>\n",
              "      <td>fair</td>\n",
              "      <td>hazel</td>\n",
              "      <td>oily</td>\n",
              "      <td>NaN</td>\n",
              "      <td>P505392</td>\n",
              "      <td>Multi Action Clear Acne Clearing Treatment Lot...</td>\n",
              "      <td>StriVectin</td>\n",
              "      <td>49.0</td>\n",
              "    </tr>\n",
              "    <tr>\n",
              "      <th>280138</th>\n",
              "      <td>27666075558</td>\n",
              "      <td>5</td>\n",
              "      <td>1.0</td>\n",
              "      <td>NaN</td>\n",
              "      <td>0</td>\n",
              "      <td>0</td>\n",
              "      <td>0</td>\n",
              "      <td>2023-03-13</td>\n",
              "      <td>I have never tried anything from StriVectin bu...</td>\n",
              "      <td>Amazing Product</td>\n",
              "      <td>light</td>\n",
              "      <td>green</td>\n",
              "      <td>normal</td>\n",
              "      <td>NaN</td>\n",
              "      <td>P505392</td>\n",
              "      <td>Multi Action Clear Acne Clearing Treatment Lot...</td>\n",
              "      <td>StriVectin</td>\n",
              "      <td>49.0</td>\n",
              "    </tr>\n",
              "  </tbody>\n",
              "</table>\n",
              "<p>280139 rows × 18 columns</p>\n",
              "</div>\n",
              "    <div class=\"colab-df-buttons\">\n",
              "\n",
              "  <div class=\"colab-df-container\">\n",
              "    <button class=\"colab-df-convert\" onclick=\"convertToInteractive('df-825f7242-0696-4748-933a-ab85f7f7b9a8')\"\n",
              "            title=\"Convert this dataframe to an interactive table.\"\n",
              "            style=\"display:none;\">\n",
              "\n",
              "  <svg xmlns=\"http://www.w3.org/2000/svg\" height=\"24px\" viewBox=\"0 -960 960 960\">\n",
              "    <path d=\"M120-120v-720h720v720H120Zm60-500h600v-160H180v160Zm220 220h160v-160H400v160Zm0 220h160v-160H400v160ZM180-400h160v-160H180v160Zm440 0h160v-160H620v160ZM180-180h160v-160H180v160Zm440 0h160v-160H620v160Z\"/>\n",
              "  </svg>\n",
              "    </button>\n",
              "\n",
              "  <style>\n",
              "    .colab-df-container {\n",
              "      display:flex;\n",
              "      gap: 12px;\n",
              "    }\n",
              "\n",
              "    .colab-df-convert {\n",
              "      background-color: #E8F0FE;\n",
              "      border: none;\n",
              "      border-radius: 50%;\n",
              "      cursor: pointer;\n",
              "      display: none;\n",
              "      fill: #1967D2;\n",
              "      height: 32px;\n",
              "      padding: 0 0 0 0;\n",
              "      width: 32px;\n",
              "    }\n",
              "\n",
              "    .colab-df-convert:hover {\n",
              "      background-color: #E2EBFA;\n",
              "      box-shadow: 0px 1px 2px rgba(60, 64, 67, 0.3), 0px 1px 3px 1px rgba(60, 64, 67, 0.15);\n",
              "      fill: #174EA6;\n",
              "    }\n",
              "\n",
              "    .colab-df-buttons div {\n",
              "      margin-bottom: 4px;\n",
              "    }\n",
              "\n",
              "    [theme=dark] .colab-df-convert {\n",
              "      background-color: #3B4455;\n",
              "      fill: #D2E3FC;\n",
              "    }\n",
              "\n",
              "    [theme=dark] .colab-df-convert:hover {\n",
              "      background-color: #434B5C;\n",
              "      box-shadow: 0px 1px 3px 1px rgba(0, 0, 0, 0.15);\n",
              "      filter: drop-shadow(0px 1px 2px rgba(0, 0, 0, 0.3));\n",
              "      fill: #FFFFFF;\n",
              "    }\n",
              "  </style>\n",
              "\n",
              "    <script>\n",
              "      const buttonEl =\n",
              "        document.querySelector('#df-825f7242-0696-4748-933a-ab85f7f7b9a8 button.colab-df-convert');\n",
              "      buttonEl.style.display =\n",
              "        google.colab.kernel.accessAllowed ? 'block' : 'none';\n",
              "\n",
              "      async function convertToInteractive(key) {\n",
              "        const element = document.querySelector('#df-825f7242-0696-4748-933a-ab85f7f7b9a8');\n",
              "        const dataTable =\n",
              "          await google.colab.kernel.invokeFunction('convertToInteractive',\n",
              "                                                    [key], {});\n",
              "        if (!dataTable) return;\n",
              "\n",
              "        const docLinkHtml = 'Like what you see? Visit the ' +\n",
              "          '<a target=\"_blank\" href=https://colab.research.google.com/notebooks/data_table.ipynb>data table notebook</a>'\n",
              "          + ' to learn more about interactive tables.';\n",
              "        element.innerHTML = '';\n",
              "        dataTable['output_type'] = 'display_data';\n",
              "        await google.colab.output.renderOutput(dataTable, element);\n",
              "        const docLink = document.createElement('div');\n",
              "        docLink.innerHTML = docLinkHtml;\n",
              "        element.appendChild(docLink);\n",
              "      }\n",
              "    </script>\n",
              "  </div>\n",
              "\n",
              "\n",
              "<div id=\"df-0ca7262d-9506-418d-9d1b-5f35736da763\">\n",
              "  <button class=\"colab-df-quickchart\" onclick=\"quickchart('df-0ca7262d-9506-418d-9d1b-5f35736da763')\"\n",
              "            title=\"Suggest charts\"\n",
              "            style=\"display:none;\">\n",
              "\n",
              "<svg xmlns=\"http://www.w3.org/2000/svg\" height=\"24px\"viewBox=\"0 0 24 24\"\n",
              "     width=\"24px\">\n",
              "    <g>\n",
              "        <path d=\"M19 3H5c-1.1 0-2 .9-2 2v14c0 1.1.9 2 2 2h14c1.1 0 2-.9 2-2V5c0-1.1-.9-2-2-2zM9 17H7v-7h2v7zm4 0h-2V7h2v10zm4 0h-2v-4h2v4z\"/>\n",
              "    </g>\n",
              "</svg>\n",
              "  </button>\n",
              "\n",
              "<style>\n",
              "  .colab-df-quickchart {\n",
              "      --bg-color: #E8F0FE;\n",
              "      --fill-color: #1967D2;\n",
              "      --hover-bg-color: #E2EBFA;\n",
              "      --hover-fill-color: #174EA6;\n",
              "      --disabled-fill-color: #AAA;\n",
              "      --disabled-bg-color: #DDD;\n",
              "  }\n",
              "\n",
              "  [theme=dark] .colab-df-quickchart {\n",
              "      --bg-color: #3B4455;\n",
              "      --fill-color: #D2E3FC;\n",
              "      --hover-bg-color: #434B5C;\n",
              "      --hover-fill-color: #FFFFFF;\n",
              "      --disabled-bg-color: #3B4455;\n",
              "      --disabled-fill-color: #666;\n",
              "  }\n",
              "\n",
              "  .colab-df-quickchart {\n",
              "    background-color: var(--bg-color);\n",
              "    border: none;\n",
              "    border-radius: 50%;\n",
              "    cursor: pointer;\n",
              "    display: none;\n",
              "    fill: var(--fill-color);\n",
              "    height: 32px;\n",
              "    padding: 0;\n",
              "    width: 32px;\n",
              "  }\n",
              "\n",
              "  .colab-df-quickchart:hover {\n",
              "    background-color: var(--hover-bg-color);\n",
              "    box-shadow: 0 1px 2px rgba(60, 64, 67, 0.3), 0 1px 3px 1px rgba(60, 64, 67, 0.15);\n",
              "    fill: var(--button-hover-fill-color);\n",
              "  }\n",
              "\n",
              "  .colab-df-quickchart-complete:disabled,\n",
              "  .colab-df-quickchart-complete:disabled:hover {\n",
              "    background-color: var(--disabled-bg-color);\n",
              "    fill: var(--disabled-fill-color);\n",
              "    box-shadow: none;\n",
              "  }\n",
              "\n",
              "  .colab-df-spinner {\n",
              "    border: 2px solid var(--fill-color);\n",
              "    border-color: transparent;\n",
              "    border-bottom-color: var(--fill-color);\n",
              "    animation:\n",
              "      spin 1s steps(1) infinite;\n",
              "  }\n",
              "\n",
              "  @keyframes spin {\n",
              "    0% {\n",
              "      border-color: transparent;\n",
              "      border-bottom-color: var(--fill-color);\n",
              "      border-left-color: var(--fill-color);\n",
              "    }\n",
              "    20% {\n",
              "      border-color: transparent;\n",
              "      border-left-color: var(--fill-color);\n",
              "      border-top-color: var(--fill-color);\n",
              "    }\n",
              "    30% {\n",
              "      border-color: transparent;\n",
              "      border-left-color: var(--fill-color);\n",
              "      border-top-color: var(--fill-color);\n",
              "      border-right-color: var(--fill-color);\n",
              "    }\n",
              "    40% {\n",
              "      border-color: transparent;\n",
              "      border-right-color: var(--fill-color);\n",
              "      border-top-color: var(--fill-color);\n",
              "    }\n",
              "    60% {\n",
              "      border-color: transparent;\n",
              "      border-right-color: var(--fill-color);\n",
              "    }\n",
              "    80% {\n",
              "      border-color: transparent;\n",
              "      border-right-color: var(--fill-color);\n",
              "      border-bottom-color: var(--fill-color);\n",
              "    }\n",
              "    90% {\n",
              "      border-color: transparent;\n",
              "      border-bottom-color: var(--fill-color);\n",
              "    }\n",
              "  }\n",
              "</style>\n",
              "\n",
              "  <script>\n",
              "    async function quickchart(key) {\n",
              "      const quickchartButtonEl =\n",
              "        document.querySelector('#' + key + ' button');\n",
              "      quickchartButtonEl.disabled = true;  // To prevent multiple clicks.\n",
              "      quickchartButtonEl.classList.add('colab-df-spinner');\n",
              "      try {\n",
              "        const charts = await google.colab.kernel.invokeFunction(\n",
              "            'suggestCharts', [key], {});\n",
              "      } catch (error) {\n",
              "        console.error('Error during call to suggestCharts:', error);\n",
              "      }\n",
              "      quickchartButtonEl.classList.remove('colab-df-spinner');\n",
              "      quickchartButtonEl.classList.add('colab-df-quickchart-complete');\n",
              "    }\n",
              "    (() => {\n",
              "      let quickchartButtonEl =\n",
              "        document.querySelector('#df-0ca7262d-9506-418d-9d1b-5f35736da763 button');\n",
              "      quickchartButtonEl.style.display =\n",
              "        google.colab.kernel.accessAllowed ? 'block' : 'none';\n",
              "    })();\n",
              "  </script>\n",
              "</div>\n",
              "\n",
              "  <div id=\"id_e517dc90-625a-4466-9b0c-79301185f1b0\">\n",
              "    <style>\n",
              "      .colab-df-generate {\n",
              "        background-color: #E8F0FE;\n",
              "        border: none;\n",
              "        border-radius: 50%;\n",
              "        cursor: pointer;\n",
              "        display: none;\n",
              "        fill: #1967D2;\n",
              "        height: 32px;\n",
              "        padding: 0 0 0 0;\n",
              "        width: 32px;\n",
              "      }\n",
              "\n",
              "      .colab-df-generate:hover {\n",
              "        background-color: #E2EBFA;\n",
              "        box-shadow: 0px 1px 2px rgba(60, 64, 67, 0.3), 0px 1px 3px 1px rgba(60, 64, 67, 0.15);\n",
              "        fill: #174EA6;\n",
              "      }\n",
              "\n",
              "      [theme=dark] .colab-df-generate {\n",
              "        background-color: #3B4455;\n",
              "        fill: #D2E3FC;\n",
              "      }\n",
              "\n",
              "      [theme=dark] .colab-df-generate:hover {\n",
              "        background-color: #434B5C;\n",
              "        box-shadow: 0px 1px 3px 1px rgba(0, 0, 0, 0.15);\n",
              "        filter: drop-shadow(0px 1px 2px rgba(0, 0, 0, 0.3));\n",
              "        fill: #FFFFFF;\n",
              "      }\n",
              "    </style>\n",
              "    <button class=\"colab-df-generate\" onclick=\"generateWithVariable('filtered_reviews')\"\n",
              "            title=\"Generate code using this dataframe.\"\n",
              "            style=\"display:none;\">\n",
              "\n",
              "  <svg xmlns=\"http://www.w3.org/2000/svg\" height=\"24px\"viewBox=\"0 0 24 24\"\n",
              "       width=\"24px\">\n",
              "    <path d=\"M7,19H8.4L18.45,9,17,7.55,7,17.6ZM5,21V16.75L18.45,3.32a2,2,0,0,1,2.83,0l1.4,1.43a1.91,1.91,0,0,1,.58,1.4,1.91,1.91,0,0,1-.58,1.4L9.25,21ZM18.45,9,17,7.55Zm-12,3A5.31,5.31,0,0,0,4.9,8.1,5.31,5.31,0,0,0,1,6.5,5.31,5.31,0,0,0,4.9,4.9,5.31,5.31,0,0,0,6.5,1,5.31,5.31,0,0,0,8.1,4.9,5.31,5.31,0,0,0,12,6.5,5.46,5.46,0,0,0,6.5,12Z\"/>\n",
              "  </svg>\n",
              "    </button>\n",
              "    <script>\n",
              "      (() => {\n",
              "      const buttonEl =\n",
              "        document.querySelector('#id_e517dc90-625a-4466-9b0c-79301185f1b0 button.colab-df-generate');\n",
              "      buttonEl.style.display =\n",
              "        google.colab.kernel.accessAllowed ? 'block' : 'none';\n",
              "\n",
              "      buttonEl.onclick = () => {\n",
              "        google.colab.notebook.generateWithVariable('filtered_reviews');\n",
              "      }\n",
              "      })();\n",
              "    </script>\n",
              "  </div>\n",
              "\n",
              "    </div>\n",
              "  </div>\n"
            ],
            "text/plain": [
              "          author_id  rating  is_recommended  helpfulness  \\\n",
              "0        1741593524       5             1.0          1.0   \n",
              "1       31423088263       1             0.0          NaN   \n",
              "2        5061282401       5             1.0          NaN   \n",
              "3        6083038851       5             1.0          NaN   \n",
              "4       47056667835       5             1.0          NaN   \n",
              "...             ...     ...             ...          ...   \n",
              "280134   2276253200       5             1.0          NaN   \n",
              "280135  28013163278       5             1.0          NaN   \n",
              "280136   1539813076       5             1.0          NaN   \n",
              "280137   5595682861       5             1.0          NaN   \n",
              "280138  27666075558       5             1.0          NaN   \n",
              "\n",
              "        total_feedback_count  total_neg_feedback_count  \\\n",
              "0                          2                         0   \n",
              "1                          0                         0   \n",
              "2                          0                         0   \n",
              "3                          0                         0   \n",
              "4                          0                         0   \n",
              "...                      ...                       ...   \n",
              "280134                     0                         0   \n",
              "280135                     0                         0   \n",
              "280136                     0                         0   \n",
              "280137                     0                         0   \n",
              "280138                     0                         0   \n",
              "\n",
              "        total_pos_feedback_count submission_time  \\\n",
              "0                              2      2023-02-01   \n",
              "1                              0      2023-03-21   \n",
              "2                              0      2023-03-21   \n",
              "3                              0      2023-03-20   \n",
              "4                              0      2023-03-20   \n",
              "...                          ...             ...   \n",
              "280134                         0      2023-03-13   \n",
              "280135                         0      2023-03-13   \n",
              "280136                         0      2023-03-13   \n",
              "280137                         0      2023-03-13   \n",
              "280138                         0      2023-03-13   \n",
              "\n",
              "                                              review_text  \\\n",
              "0       I use this with the Nudestix “Citrus Clean Bal...   \n",
              "1       I bought this lip mask after reading the revie...   \n",
              "2       My review title says it all! I get so excited ...   \n",
              "3       I’ve always loved this formula for a long time...   \n",
              "4       If you have dry cracked lips, this is a must h...   \n",
              "...                                                   ...   \n",
              "280134  Consider salicylic acid your secret weapon for...   \n",
              "280135  I’ve been using this as my only moisturizer fo...   \n",
              "280136  I got breakouts whenever it’s my time of month...   \n",
              "280137  I love this!!! I don’t get actual acne just an...   \n",
              "280138  I have never tried anything from StriVectin bu...   \n",
              "\n",
              "                            review_title skin_tone eye_color    skin_type  \\\n",
              "0       Taught me how to double cleanse!       NaN     brown          dry   \n",
              "1                           Disappointed       NaN       NaN          NaN   \n",
              "2                   New Favorite Routine     light     brown          dry   \n",
              "3        Can't go wrong with any of them       NaN     brown  combination   \n",
              "4                        A must have !!!     light     hazel  combination   \n",
              "...                                  ...       ...       ...          ...   \n",
              "280134                               NaN      fair     brown  combination   \n",
              "280135                               NaN       NaN      blue  combination   \n",
              "280136                               NaN     light      blue  combination   \n",
              "280137                               NaN      fair     hazel         oily   \n",
              "280138                   Amazing Product     light     green       normal   \n",
              "\n",
              "       hair_color product_id  \\\n",
              "0           black    P504322   \n",
              "1             NaN    P420652   \n",
              "2          blonde    P420652   \n",
              "3           black    P420652   \n",
              "4             NaN    P420652   \n",
              "...           ...        ...   \n",
              "280134        NaN    P505392   \n",
              "280135     blonde    P505392   \n",
              "280136     blonde    P505392   \n",
              "280137        NaN    P505392   \n",
              "280138        NaN    P505392   \n",
              "\n",
              "                                             product_name  brand_name  \\\n",
              "0                          Gentle Hydra-Gel Face Cleanser    NUDESTIX   \n",
              "1       Lip Sleeping Mask Intense Hydration with Vitam...     LANEIGE   \n",
              "2       Lip Sleeping Mask Intense Hydration with Vitam...     LANEIGE   \n",
              "3       Lip Sleeping Mask Intense Hydration with Vitam...     LANEIGE   \n",
              "4       Lip Sleeping Mask Intense Hydration with Vitam...     LANEIGE   \n",
              "...                                                   ...         ...   \n",
              "280134  Multi Action Clear Acne Clearing Treatment Lot...  StriVectin   \n",
              "280135  Multi Action Clear Acne Clearing Treatment Lot...  StriVectin   \n",
              "280136  Multi Action Clear Acne Clearing Treatment Lot...  StriVectin   \n",
              "280137  Multi Action Clear Acne Clearing Treatment Lot...  StriVectin   \n",
              "280138  Multi Action Clear Acne Clearing Treatment Lot...  StriVectin   \n",
              "\n",
              "        price_usd  \n",
              "0            19.0  \n",
              "1            24.0  \n",
              "2            24.0  \n",
              "3            24.0  \n",
              "4            24.0  \n",
              "...           ...  \n",
              "280134       49.0  \n",
              "280135       49.0  \n",
              "280136       49.0  \n",
              "280137       49.0  \n",
              "280138       49.0  \n",
              "\n",
              "[280139 rows x 18 columns]"
            ]
          },
          "execution_count": 3,
          "metadata": {},
          "output_type": "execute_result"
        }
      ],
      "source": [
        "import pandas as pd\n",
        "filtered_reviews = pd.read_csv(\"/content/drive/MyDrive/dl_models/GenAI_Stitching/filtered_reviews.csv\")\n",
        "filtered_reviews"
      ]
    },
    {
      "cell_type": "code",
      "execution_count": 4,
      "metadata": {
        "id": "M03p4e5T07Mf"
      },
      "outputs": [],
      "source": [
        "# Extract 0.1% of the most useful reviews for upserting\n",
        "filtered_reviews = filtered_reviews.sort_values(by=\"helpfulness\", ascending=False)\n",
        "data = filtered_reviews[:280]"
      ]
    },
    {
      "cell_type": "markdown",
      "metadata": {
        "id": "1ma35u-5z_Jp"
      },
      "source": [
        "# Build Multi-agent System for Adavanced RAG and LoRA"
      ]
    },
    {
      "cell_type": "markdown",
      "metadata": {
        "id": "t105FNvg62Y7"
      },
      "source": [
        "## Basic RAG Pipeline"
      ]
    },
    {
      "cell_type": "code",
      "execution_count": 5,
      "metadata": {
        "id": "Ei6yQl__00Jq"
      },
      "outputs": [],
      "source": [
        "# Load necessary keys and tokens from the .env file\n",
        "from dotenv import load_dotenv\n",
        "load_dotenv(\"/content/drive/MyDrive/code_envs/.env\")\n",
        "# Access environment variables\n",
        "openai_key = os.getenv(\"OPENAI_API_KEY\")\n",
        "pinecone_key = os.getenv(\"PINECONE_API_KEY\")\n",
        "ngrok_key = os.getenv(\"NGROK_TOKEN\")"
      ]
    },
    {
      "cell_type": "code",
      "execution_count": 6,
      "metadata": {
        "colab": {
          "base_uri": "https://localhost:8080/"
        },
        "id": "IYMuexsCQVmF",
        "outputId": "63d791ba-a2c8-4761-de14-8ede5112e6d5"
      },
      "outputs": [
        {
          "name": "stderr",
          "output_type": "stream",
          "text": [
            "<ipython-input-6-2c5a03b84996>:3: LangChainDeprecationWarning: The class `ChatOpenAI` was deprecated in LangChain 0.0.10 and will be removed in 1.0. An updated version of the class exists in the :class:`~langchain-openai package and should be used instead. To use it run `pip install -U :class:`~langchain-openai` and import as `from :class:`~langchain_openai import ChatOpenAI``.\n",
            "  llm = ChatOpenAI(\n"
          ]
        }
      ],
      "source": [
        "# Launch openai model\n",
        "from langchain.chat_models import ChatOpenAI\n",
        "llm = ChatOpenAI(\n",
        "    openai_api_key=openai_key,\n",
        "    model_name=\"gpt-3.5-turbo\",\n",
        "    temperature=0,\n",
        ")"
      ]
    },
    {
      "cell_type": "code",
      "execution_count": 7,
      "metadata": {
        "colab": {
          "base_uri": "https://localhost:8080/"
        },
        "id": "1itCKrnBzNqH",
        "outputId": "29d3e4ad-e71b-47ae-8bbb-c216875f370c"
      },
      "outputs": [
        {
          "name": "stdout",
          "output_type": "stream",
          "text": [
            "[{\n",
            "    \"name\": \"sephora-review-index-test\",\n",
            "    \"dimension\": 768,\n",
            "    \"metric\": \"cosine\",\n",
            "    \"host\": \"sephora-review-index-test-u16bwp6.svc.aped-4627-b74a.pinecone.io\",\n",
            "    \"spec\": {\n",
            "        \"serverless\": {\n",
            "            \"cloud\": \"aws\",\n",
            "            \"region\": \"us-east-1\"\n",
            "        }\n",
            "    },\n",
            "    \"status\": {\n",
            "        \"ready\": true,\n",
            "        \"state\": \"Ready\"\n",
            "    },\n",
            "    \"deletion_protection\": \"disabled\"\n",
            "}, {\n",
            "    \"name\": \"review-embedding\",\n",
            "    \"dimension\": 768,\n",
            "    \"metric\": \"cosine\",\n",
            "    \"host\": \"review-embedding-u16bwp6.svc.aped-4627-b74a.pinecone.io\",\n",
            "    \"spec\": {\n",
            "        \"serverless\": {\n",
            "            \"cloud\": \"aws\",\n",
            "            \"region\": \"us-east-1\"\n",
            "        }\n",
            "    },\n",
            "    \"status\": {\n",
            "        \"ready\": true,\n",
            "        \"state\": \"Ready\"\n",
            "    },\n",
            "    \"deletion_protection\": \"disabled\"\n",
            "}, {\n",
            "    \"name\": \"sephora-review-index\",\n",
            "    \"dimension\": 768,\n",
            "    \"metric\": \"cosine\",\n",
            "    \"host\": \"sephora-review-index-u16bwp6.svc.aped-4627-b74a.pinecone.io\",\n",
            "    \"spec\": {\n",
            "        \"serverless\": {\n",
            "            \"cloud\": \"aws\",\n",
            "            \"region\": \"us-east-1\"\n",
            "        }\n",
            "    },\n",
            "    \"status\": {\n",
            "        \"ready\": true,\n",
            "        \"state\": \"Ready\"\n",
            "    },\n",
            "    \"deletion_protection\": \"disabled\"\n",
            "}]\n"
          ]
        }
      ],
      "source": [
        "pc = pinecone.Pinecone(api_key=pinecone_key)  # Initialize Pinecone client\n",
        "index_name = \"sephora-review-index-test\"\n",
        "text_field = \"raw_text_index\"\n",
        "print(pc.list_indexes())"
      ]
    },
    {
      "cell_type": "code",
      "execution_count": 8,
      "metadata": {
        "colab": {
          "base_uri": "https://localhost:8080/"
        },
        "id": "hYRnO8Do4-XN",
        "outputId": "90969244-6b9f-49bd-f554-c7a5d82dad6c"
      },
      "outputs": [
        {
          "name": "stderr",
          "output_type": "stream",
          "text": [
            "<ipython-input-8-28cce470dcdf>:5: UserWarning: The model sentence-transformers/paraphrase-multilingual-mpnet-base-v2 now uses mean pooling instead of CLS embedding. In order to preserve the previous behaviour, consider either pinning fastembed version to 0.5.1 or using `add_custom_model` functionality.\n",
            "  self.model = TextEmbedding(model_name=model)\n",
            "/usr/local/lib/python3.11/dist-packages/huggingface_hub/utils/_auth.py:94: UserWarning: \n",
            "The secret `HF_TOKEN` does not exist in your Colab secrets.\n",
            "To authenticate with the Hugging Face Hub, create a token in your settings tab (https://huggingface.co/settings/tokens), set it as secret in your Google Colab and restart your session.\n",
            "You will be able to reuse this secret in all of your notebooks.\n",
            "Please note that authentication is recommended but still optional to access public models or datasets.\n",
            "  warnings.warn(\n"
          ]
        }
      ],
      "source": [
        "from fastembed import TextEmbedding\n",
        "class embeddingModel:\n",
        "    def __init__(self, model):\n",
        "        # Initialize FastEmbed model\n",
        "        self.model = TextEmbedding(model_name=model)\n",
        "\n",
        "    def embed_documents(self, splits):\n",
        "        # Embed a list of chunks (splits) and return a list of embeddings\n",
        "        return [list(self.model.embed(chunk))[0].tolist() for chunk in splits] # every time extract the first result from what self.model.embed() returns\n",
        "\n",
        "    def embed_query(self, query):\n",
        "        return list(self.model.embed(query))[0].tolist()\n",
        "\n",
        "# Initialize the embedding model\n",
        "embeddings = embeddingModel(\"sentence-transformers/paraphrase-multilingual-mpnet-base-v2\")"
      ]
    },
    {
      "cell_type": "code",
      "execution_count": 9,
      "metadata": {
        "colab": {
          "base_uri": "https://localhost:8080/"
        },
        "id": "YyFvftuv5FqU",
        "outputId": "662e29fb-2bd1-443f-e2fe-1a3212cd3085"
      },
      "outputs": [
        {
          "data": {
            "text/plain": [
              "<langchain_pinecone.vectorstores.PineconeVectorStore at 0x78d693fe3e50>"
            ]
          },
          "execution_count": 9,
          "metadata": {},
          "output_type": "execute_result"
        }
      ],
      "source": [
        "from langchain_pinecone import PineconeVectorStore\n",
        "index = pc.Index(index_name)\n",
        "vectorstore = PineconeVectorStore(\n",
        "    index=index,\n",
        "    embedding=embeddings,\n",
        "    text_key=\"review_text\"\n",
        ")\n",
        "vectorstore"
      ]
    },
    {
      "cell_type": "code",
      "execution_count": 10,
      "metadata": {
        "id": "SBMANruz4Yeo"
      },
      "outputs": [],
      "source": [
        "def basic_rag_retriever(query, k=5):\n",
        "    \"\"\"Retrieve top 5 relevant documents from vector DB.\"\"\"\n",
        "    retrieved_docs = vectorstore.similarity_search(query, k=k)  # ✅ Works with PineconeVectorStore\n",
        "    return [doc for doc in retrieved_docs]\n",
        "\n",
        "def format_docs(docs):\n",
        "    # Ensure proper formatting by extracting page_content\n",
        "    return \"\\n\\n\".join(doc.page_content if hasattr(doc, 'page_content') else str(doc) for doc in docs)"
      ]
    },
    {
      "cell_type": "code",
      "execution_count": 11,
      "metadata": {
        "id": "vYLi63b74aSQ"
      },
      "outputs": [],
      "source": [
        "def basic_rag_pipeline(query):\n",
        "    retrieved_docs = basic_rag_retriever(query)\n",
        "    context = format_docs(retrieved_docs)  # Ensure correct document formatting\n",
        "    response = llm.invoke(f\"Context: {context}\\n\\nQuestion: {query}\")\n",
        "    return response"
      ]
    },
    {
      "cell_type": "code",
      "execution_count": 12,
      "metadata": {
        "colab": {
          "base_uri": "https://localhost:8080/"
        },
        "id": "vGEKlufP4gZe",
        "outputId": "b5092d44-fe08-469d-f8de-92e3c35cc3d5"
      },
      "outputs": [
        {
          "name": "stdout",
          "output_type": "stream",
          "text": [
            "Based on the reviews, some sunscreen products at Sephora that are suitable for sensitive skin include:\n",
            "\n",
            "1. Supergoop! Unseen Sunscreen SPF 40\n",
            "2. Drunk Elephant Umbra Sheer Physical Daily Defense SPF 30\n",
            "3. First Aid Beauty Ultra Repair Pure Mineral Sunscreen Moisturizer SPF 40\n",
            "4. Tatcha Silken Pore Perfecting Sunscreen SPF 35\n",
            "5. Coola Mineral Face SPF 30 Matte Tint Moisturizer\n",
            "\n",
            "These products have received positive feedback from users with sensitive skin, so they may be worth considering for your skincare routine.\n"
          ]
        }
      ],
      "source": [
        "# Test Basic RAG\n",
        "query = \"What sunscreen products in Sephora are suitable for sensitive skins based on the reviews?\"\n",
        "answer = basic_rag_pipeline(query)\n",
        "print(answer.content)"
      ]
    },
    {
      "cell_type": "markdown",
      "metadata": {
        "id": "2JudbxaUENO7"
      },
      "source": [
        "## Agent 1: Query Rewriting Agent (For Advanced RAG)"
      ]
    },
    {
      "cell_type": "code",
      "execution_count": 13,
      "metadata": {
        "id": "sNflgcFKENO7"
      },
      "outputs": [],
      "source": [
        "import openai\n",
        "from typing import List\n",
        "def query_rewriter(query: str) -> str:\n",
        "    \"\"\"\n",
        "    A simple LLM-based agent to rephrase or enhance the user's query before sending it to the Retriever.\n",
        "    \"\"\"\n",
        "    system_message = \"You are a helpful assistant that rewrites queries for better search.\"\n",
        "    user_message = f\"Rewrite this user query to help the retriever agent retrieve the most relevant reviews: \\n{query}\"\n",
        "    client = openai.OpenAI(api_key=openai_key)\n",
        "    response = client.chat.completions.create(\n",
        "            model=\"gpt-3.5-turbo\",\n",
        "            messages=[\n",
        "                {\"role\": \"system\", \"content\": system_message},\n",
        "                {\"role\": \"user\", \"content\": user_message}\n",
        "            ],\n",
        "            temperature=0.7\n",
        "        )\n",
        "    rewritten_query = response.choices[0].message.content.strip().lower()\n",
        "    return rewritten_query"
      ]
    },
    {
      "cell_type": "code",
      "execution_count": 14,
      "metadata": {
        "colab": {
          "base_uri": "https://localhost:8080/",
          "height": 35
        },
        "id": "5Y7VjhcAENO7",
        "outputId": "aa7e5366-81a0-461a-dc38-aa9d46d26580"
      },
      "outputs": [
        {
          "data": {
            "application/vnd.google.colaboratory.intrinsic+json": {
              "type": "string"
            },
            "text/plain": [
              "'find sunscreen products at sephora that are recommended for sensitive skin according to customer reviews.'"
            ]
          },
          "execution_count": 14,
          "metadata": {},
          "output_type": "execute_result"
        }
      ],
      "source": [
        "# Example usage\n",
        "query = \"What sunscreen products in Sephora are suitable for sensitive skins based on the reviews?\"\n",
        "answer = query_rewriter(query)\n",
        "answer"
      ]
    },
    {
      "cell_type": "markdown",
      "metadata": {
        "id": "VSwSEa_g9cyp"
      },
      "source": [
        "## Agent 2: Retriever Agent (Vector Database Retriever)"
      ]
    },
    {
      "cell_type": "code",
      "execution_count": 15,
      "metadata": {
        "id": "7vclvoYFD_RE"
      },
      "outputs": [],
      "source": [
        "def retriever_agent(query: str, k: int = 5):\n",
        "    \"\"\"\n",
        "    A simple wrapper around basic_rag_retriever to act as a 'retriever agent.'\n",
        "    This function only does retrieval and returns the raw docs.\n",
        "    \"\"\"\n",
        "    docs = basic_rag_retriever(query, k)\n",
        "    return docs"
      ]
    },
    {
      "cell_type": "code",
      "execution_count": 16,
      "metadata": {
        "colab": {
          "base_uri": "https://localhost:8080/"
        },
        "id": "4ZuB9uihFUGZ",
        "outputId": "010d5217-264d-489d-c024-6abd20bef92f"
      },
      "outputs": [
        {
          "data": {
            "text/plain": [
              "[Document(id='155356', metadata={'brand_name': 'fresh', 'price_usd': 28.0, 'product_name': 'Sugar Recovery Lip Mask Advanced Therapy', 'rating': 3.0}, page_content='I LOVE their Advanced Therapy Lip Treatment, I keep this one in my car because the tube kind melts. I like this because it doesn’t irritate my already very dry lips and it won’t melt all over my car, but for actual lip protection I will continue to use the other product.'),\n",
              " Document(id='155058', metadata={'brand_name': 'Lancôme', 'price_usd': 140.0, 'product_name': 'Rénergie H.C.F. Triple Serum: For Plumping & Anti-Aging', 'rating': 4.0}, page_content='my makeup. I would do a touch up mid day and be fine. I deducted one star for this issue. But all in all this is a powerful  product that I will continue to purchase!'),\n",
              " Document(id='155875', metadata={'brand_name': \"Kiehl's Since 1851\", 'price_usd': 60.0, 'product_name': 'Super Multi-Corrective Anti-Aging Eye Cream', 'rating': 4.0}, page_content='I am no exception to the rule!! After trying the product, I found myself pleased that I did not experience any breakouts, the product smelled great, and I think my fine lines were a little less defined. Definitely a great ’pick me up’ product to add to your makeup arsenal.'),\n",
              " Document(id='155883', metadata={'brand_name': \"Kiehl's Since 1851\", 'price_usd': 60.0, 'product_name': 'Super Multi-Corrective Anti-Aging Eye Cream', 'rating': 5.0}, page_content='re-purchasing most definitely. I would recommend this eye cream for anyone, honestly--whether you are trying to prevent fine lines or reduce them. It is fantastic!!'),\n",
              " Document(id='154960', metadata={'brand_name': 'Lancôme', 'price_usd': 140.0, 'product_name': 'Rénergie H.C.F. Triple Serum: For Plumping & Anti-Aging', 'rating': 2.0}, page_content='I was excited to use the product after reading several reviews, but I was a bit disappointed. I did not see much difference in the appearance of my skin after using for over a week. For the price, there are many other products that I would purchase before this one.')]"
            ]
          },
          "execution_count": 16,
          "metadata": {},
          "output_type": "execute_result"
        }
      ],
      "source": [
        "# Example Usage of retriever agent\n",
        "test_query = \"What reviews are correlated with lipstick products?\"\n",
        "docs = retriever_agent(test_query)\n",
        "docs"
      ]
    },
    {
      "cell_type": "markdown",
      "metadata": {
        "id": "yFEcEBrkFc7v"
      },
      "source": [
        "## Agent 3: Sentiment Analyzer Agent"
      ]
    },
    {
      "cell_type": "markdown",
      "metadata": {
        "id": "O1cIOLd2Cot6"
      },
      "source": [
        "Used the base model and the finetuned LoRA model to build 2 Sentiment Analyzer Agents"
      ]
    },
    {
      "cell_type": "code",
      "execution_count": 17,
      "metadata": {
        "id": "PmFKB-OwCs65"
      },
      "outputs": [],
      "source": [
        "# Set seed for reproducibility\n",
        "import torch\n",
        "SEED = 42\n",
        "np.random.seed(SEED)\n",
        "torch.manual_seed(SEED)\n",
        "torch.backends.cudnn.deterministic = True\n",
        "torch.backends.cudnn.benchmark = False\n",
        "if torch.cuda.is_available():\n",
        "    torch.cuda.manual_seed_all(SEED)"
      ]
    },
    {
      "cell_type": "code",
      "execution_count": 18,
      "metadata": {
        "id": "khZr6noDyMVX"
      },
      "outputs": [],
      "source": [
        "from transformers import logging\n",
        "logging.set_verbosity_error()"
      ]
    },
    {
      "cell_type": "code",
      "execution_count": 19,
      "metadata": {
        "id": "9Zs3KkwhC8mI"
      },
      "outputs": [],
      "source": [
        "from transformers import AutoTokenizer, AutoModelForSequenceClassification\n",
        "def sentiment_analyzer_base_agent(docs: list[str]) -> list[str]:\n",
        "    base_model_name = \"prajjwal1/bert-tiny\"\n",
        "    tokenizer_base = AutoTokenizer.from_pretrained(base_model_name)\n",
        "    tokenizer_base.model_max_length = 512\n",
        "    model_base = AutoModelForSequenceClassification.from_pretrained(\n",
        "        base_model_name,\n",
        "        num_labels=3,\n",
        "        ignore_mismatched_sizes=True\n",
        "    )\n",
        "    model_base.eval()\n",
        "\n",
        "    sentiments = []\n",
        "    label_map = {0: \"negative\", 1: \"neutral\", 2: \"positive\"}\n",
        "    for doc in docs:\n",
        "        if not isinstance(doc, str):\n",
        "            doc = str(doc)\n",
        "\n",
        "        inputs = tokenizer_base(doc, return_tensors=\"pt\", truncation=True)\n",
        "        with torch.no_grad():\n",
        "            outputs = model_base(**inputs)\n",
        "        pred = outputs.logits.argmax(dim=-1).item()\n",
        "        sentiments.append(label_map.get(pred))\n",
        "\n",
        "    return sentiments"
      ]
    },
    {
      "cell_type": "code",
      "execution_count": 20,
      "metadata": {
        "colab": {
          "base_uri": "https://localhost:8080/"
        },
        "id": "f2RWUGOZQxnx",
        "outputId": "2c56fea0-b38d-4801-f122-82806422ccf8"
      },
      "outputs": [
        {
          "data": {
            "text/plain": [
              "['neutral', 'positive', 'positive', 'positive', 'positive']"
            ]
          },
          "execution_count": 20,
          "metadata": {},
          "output_type": "execute_result"
        }
      ],
      "source": [
        "# Test the base model sentiment analyzer\n",
        "sentiment_analyzer_base_agent(docs)"
      ]
    },
    {
      "cell_type": "code",
      "execution_count": 21,
      "metadata": {
        "id": "V1x28awdDqa2"
      },
      "outputs": [],
      "source": [
        "from peft import PeftModel\n",
        "\n",
        "def sentiment_analyzer_lora_agent(docs: list[str]) -> list[str]:\n",
        "    base_model_name = \"prajjwal1/bert-tiny\"\n",
        "    tokenizer_base = AutoTokenizer.from_pretrained(base_model_name)\n",
        "    base_model_lora = AutoModelForSequenceClassification.from_pretrained(\n",
        "        base_model_name,\n",
        "        num_labels=3,\n",
        "        ignore_mismatched_sizes=True\n",
        "    )\n",
        "    peft_model = PeftModel.from_pretrained(\n",
        "        base_model_lora,\n",
        "        \"/content/drive/MyDrive/dl_models/GenAI_Stitching/finetuned_lora_model\"\n",
        "    )\n",
        "    peft_model.eval()\n",
        "\n",
        "    sentiments = []\n",
        "    label_map = {0: \"negative\", 1: \"neutral\", 2: \"positive\"}\n",
        "    for doc in docs:\n",
        "        if not isinstance(doc, str):\n",
        "            doc = str(doc)\n",
        "\n",
        "        inputs = tokenizer_base(doc, return_tensors=\"pt\", truncation=True)\n",
        "        with torch.no_grad():\n",
        "            outputs = peft_model(**inputs)\n",
        "        pred = outputs.logits.argmax(dim=-1).item()\n",
        "        sentiments.append(label_map.get(pred))\n",
        "\n",
        "    return sentiments"
      ]
    },
    {
      "cell_type": "code",
      "execution_count": 22,
      "metadata": {
        "colab": {
          "base_uri": "https://localhost:8080/"
        },
        "id": "GNBpoejdD1Xa",
        "outputId": "c297d1b5-da8a-4c41-9773-a6b8a1f8dd8b"
      },
      "outputs": [
        {
          "name": "stderr",
          "output_type": "stream",
          "text": [
            "/usr/local/lib/python3.11/dist-packages/peft/config.py:162: UserWarning: Unexpected keyword arguments ['corda_config', 'trainable_token_indices'] for class LoraConfig, these are ignored. This probably means that you're loading a configuration file that was saved using a higher version of the library and additional parameters have been introduced since. It is highly recommended to upgrade the PEFT version before continuing (e.g. by running `pip install -U peft`).\n",
            "  warnings.warn(\n"
          ]
        },
        {
          "data": {
            "text/plain": [
              "['neutral', 'neutral', 'positive', 'positive', 'neutral']"
            ]
          },
          "execution_count": 22,
          "metadata": {},
          "output_type": "execute_result"
        }
      ],
      "source": [
        "# the finetuned lora model agent classfies different reviews into different classes\n",
        "sentiment_analyzer_lora_agent(docs)"
      ]
    },
    {
      "cell_type": "markdown",
      "metadata": {
        "id": "_LaDfyZgHMgd"
      },
      "source": [
        "## Agent 4: Summarizer Agent"
      ]
    },
    {
      "cell_type": "code",
      "execution_count": 23,
      "metadata": {
        "id": "f6zRfO1sf_kI"
      },
      "outputs": [],
      "source": [
        "# Basic LLM Summarizer\n",
        "def llm_summarizer(query: str) -> str:\n",
        "    \"\"\"\n",
        "    Answer the user query directly with simple LLM summarizer.\n",
        "    \"\"\"\n",
        "    prompt = (\n",
        "        f\"User query: {query}\\n\"\n",
        "        \"Please provide an answer to the user's query.\"\n",
        "    )\n",
        "    system_message = \"You are a helpful assistant that answers the user's query.\"\n",
        "    client = openai.OpenAI(api_key=openai_key)\n",
        "    response = client.chat.completions.create(\n",
        "            model=\"gpt-3.5-turbo\",\n",
        "            messages=[\n",
        "                {\"role\": \"system\", \"content\": system_message},\n",
        "                {\"role\": \"user\", \"content\": prompt}\n",
        "            ],\n",
        "            temperature=0.5\n",
        "        )\n",
        "    return response.choices[0].message.content.strip()"
      ]
    },
    {
      "cell_type": "code",
      "execution_count": 24,
      "metadata": {
        "id": "zxRbsJ3KfomO"
      },
      "outputs": [],
      "source": [
        "# RAG+LLM Summarizer\n",
        "def rag_llm_summarizer(query: str, docs: List[str]) -> str:\n",
        "    \"\"\"\n",
        "    Use Basic RAG with Vectordb-based retriever and LLM for summarization.\n",
        "    \"\"\"\n",
        "    docs_text = \"\\n\".join(f\"- {doc}\" for doc in docs)\n",
        "    prompt = (\n",
        "        f\"User query: {query}\\n\\nRelevant information:\\n{docs_text}\\n\\n\"\n",
        "        \"Please provide a concise answer to the user's query.\"\n",
        "    )\n",
        "    client = openai.OpenAI(api_key=openai_key)\n",
        "    response = client.chat.completions.create(\n",
        "        model=\"gpt-3.5-turbo\",\n",
        "        messages=[{\"role\": \"system\", \"content\": \"You are a helpful assistant.\"},\n",
        "                  {\"role\": \"user\", \"content\": prompt}],\n",
        "        temperature=0.5\n",
        "    )\n",
        "    return response.choices[0].message.content.strip()"
      ]
    },
    {
      "cell_type": "code",
      "execution_count": 25,
      "metadata": {
        "id": "QuNHUn9ZHPOu"
      },
      "outputs": [],
      "source": [
        "def agentic_rag_llm_summarizer(user_query: str, docs: List, sentiments: List[str]):\n",
        "    \"\"\"\n",
        "    Use advanced RAG techniques and sentiment analysis results to generate a comprehensive summary.\n",
        "    \"\"\"\n",
        "    # Format the docs & sentiments for the prompt\n",
        "    combined_text = \"\"\n",
        "    for i, doc in enumerate(docs):\n",
        "        text = doc.page_content if hasattr(doc, \"page_content\") else str(doc)\n",
        "        combined_text += f\"Review #{i+1}: {text}\\nSentiment: {sentiments[i]}\\n\\n\"\n",
        "\n",
        "    prompt = (\n",
        "        f\"User query: {user_query}\\n\\n\"\n",
        "        f\"Here are the relevant reviews with the underlying sentiment analyzed:\\n{combined_text}\\n\"\n",
        "        \"Please provide an answer to the user query, incorporating summarization of all the reviews correlated with the user query, \"\n",
        "        \"and reflects the overall sentiment of these reviews.\"\n",
        "    )\n",
        "\n",
        "    client = openai.OpenAI(api_key=openai_key)\n",
        "    response = client.chat.completions.create(\n",
        "    model=\"gpt-3.5-turbo\",\n",
        "    messages=[\n",
        "    {\"role\": \"system\", \"content\": \"You are a helpful assistant.\"},\n",
        "    {\"role\": \"user\", \"content\": prompt}],\n",
        "    temperature=0.5)\n",
        "\n",
        "    final_answer = response.choices[0].message.content.strip()\n",
        "    return final_answer"
      ]
    },
    {
      "cell_type": "markdown",
      "metadata": {
        "id": "1R1V_-Vwb09y"
      },
      "source": [
        "# Build the Graph with LangGraph"
      ]
    },
    {
      "cell_type": "markdown",
      "metadata": {
        "id": "ugrUajnVIqnL"
      },
      "source": [
        "### State Definition"
      ]
    },
    {
      "cell_type": "code",
      "execution_count": 26,
      "metadata": {
        "id": "GgzCmXW_JS0V"
      },
      "outputs": [],
      "source": [
        "# Define the GraphState with keys adapted for our agents\n",
        "class GraphState(TypedDict):\n",
        "    \"\"\"\n",
        "    Represents the state of our graph.\n",
        "\n",
        "    Attributes:\n",
        "        query: The input query to retrieve reviews.\n",
        "        reviews: A list of retrieved reviews.\n",
        "        sentiment: The sentiment analysis result.\n",
        "        summary: The final summary generated.\n",
        "    \"\"\"\n",
        "    query: str                 # The input query\n",
        "    reviews: List[str]         # A list of retrieved reviews\n",
        "    sentiment: List[str]       # The sentiment analysis result\n",
        "    summary: str               # The final summary generated\n",
        "    pipeline_choice: str       # 'a', 'b', 'c', or 'd'"
      ]
    },
    {
      "cell_type": "markdown",
      "metadata": {
        "id": "LR4_qXavQPHr"
      },
      "source": [
        "### Node Definition"
      ]
    },
    {
      "cell_type": "code",
      "execution_count": 27,
      "metadata": {
        "id": "5O8onLsMTE0S"
      },
      "outputs": [],
      "source": [
        "def choose_pipeline(state: GraphState) -> GraphState:\n",
        "    \"\"\"\n",
        "    Decide which pipeline to run (a, b, c, or d).\n",
        "    For example, you could read user input or config from 'state[\"query\"]'\n",
        "    or an external parameter.\n",
        "    Here we assume it's already in 'state[\"pipeline_choice\"]'.\n",
        "    \"\"\"\n",
        "    pipeline = state[\"pipeline_choice\"].lower()\n",
        "\n",
        "    # Just log the chosen pipeline:\n",
        "    print(f\"---DECISION: Using pipeline '{pipeline}'---\")\n",
        "    return {\"pipeline_choice\":pipeline}"
      ]
    },
    {
      "cell_type": "code",
      "execution_count": 28,
      "metadata": {
        "id": "7yR9eVjFG9dY"
      },
      "outputs": [],
      "source": [
        "def rewrite_query(state: GraphState) -> GraphState:\n",
        "    \"\"\"\n",
        "    Rewrite the user query using the query_rewriter agent.\n",
        "    \"\"\"\n",
        "    print(\"---REWRITE QUERY---\")\n",
        "    query = state[\"query\"]\n",
        "    pipeline = state[\"pipeline_choice\"]\n",
        "    rewritten_query = query_rewriter(query)\n",
        "    return {\"query\": rewritten_query, \"pipeline_choice\":pipeline}\n",
        "\n",
        "def retrieve_reviews(state: GraphState) -> GraphState:\n",
        "    \"\"\"\n",
        "    Retrieve reviews based on the input query.\n",
        "    \"\"\"\n",
        "    print(\"---RETRIEVE REVIEWS---\")\n",
        "    query = state[\"query\"]\n",
        "    pipeline = state[\"pipeline_choice\"]\n",
        "    # Call the retriever_agent function directly.\n",
        "    reviews = retriever_agent(query)\n",
        "    return {\"query\": query, \"pipeline_choice\":pipeline, \"reviews\": reviews}\n",
        "\n",
        "def analyze_sentiment_base(state: GraphState) -> GraphState:\n",
        "    \"\"\"\n",
        "    Analyze the sentiment of the retrieved reviews with the base language model.\n",
        "    \"\"\"\n",
        "    print(\"---ANALYZE SENTIMENT WITH BASE MODEL---\")\n",
        "    query = state[\"query\"]\n",
        "    pipeline = state[\"pipeline_choice\"]\n",
        "    reviews = state[\"reviews\"]\n",
        "    sentiment = sentiment_analyzer_base_agent(reviews)\n",
        "    return {\"query\": query, \"pipeline_choice\":pipeline, \"reviews\": reviews, \"sentiment\": sentiment}\n",
        "\n",
        "def analyze_sentiment_lora(state: GraphState) -> GraphState:\n",
        "    \"\"\"\n",
        "    Analyze the sentiment of the retrieved reviews with the lora-finetuned language model.\n",
        "    \"\"\"\n",
        "    print(\"---ANALYZE SENTIMENT WITH LORA MODEL---\")\n",
        "    query = state[\"query\"]\n",
        "    pipeline = state[\"pipeline_choice\"]\n",
        "    reviews = state.get(\"reviews\", [])\n",
        "    sentiment = sentiment_analyzer_lora_agent(reviews)\n",
        "    return {\"query\": query, \"pipeline_choice\":pipeline, \"reviews\": reviews, \"sentiment\": sentiment}\n",
        "\n",
        "def llm_summarize(state: GraphState) -> GraphState:\n",
        "    \"\"\"\n",
        "    Answer the user query directly with simple LLM summarizer.\n",
        "    \"\"\"\n",
        "    print(\"---ANSWER QUERY WITH SIMPLE LLM SUMMARIZER---\")\n",
        "    query = state[\"query\"]\n",
        "    pipeline = state[\"pipeline_choice\"]\n",
        "    summary = llm_summarizer(query)\n",
        "    return {\"query\": query, \"pipeline_choice\":pipeline, \"summary\": summary}\n",
        "\n",
        "def rag_llm_summarize(state: GraphState) -> GraphState:\n",
        "    \"\"\"\n",
        "    Summarize the reviews using RAG to improve LLM response.\n",
        "    \"\"\"\n",
        "    print(\"---ANSWER QUERY WITH RAG+LLM SUMMARIZER---\")\n",
        "    query = state[\"query\"]\n",
        "    pipeline = state[\"pipeline_choice\"]\n",
        "    reviews = state[\"reviews\"]\n",
        "    summary = rag_llm_summarizer(query, reviews)\n",
        "    return {\"query\": query, \"pipeline_choice\": pipeline, \"reviews\": reviews, \"summary\": summary}\n",
        "\n",
        "def agentic_rag_llm_summarize(state: GraphState) -> GraphState:\n",
        "    \"\"\"\n",
        "    Summarize the reviews using the retrieved content and sentiment result.\n",
        "    \"\"\"\n",
        "    print(\"---ANSWER QUERY WITH AGENTIC RAG+SENTIMENT SUMMARIZER---\")\n",
        "    query = state[\"query\"]\n",
        "    pipeline = state[\"pipeline_choice\"]\n",
        "    reviews = state[\"reviews\"]\n",
        "    sentiment = state[\"sentiment\"]\n",
        "    summary = agentic_rag_llm_summarizer(query, reviews, sentiment)\n",
        "    return {\"query\": query, \"pipeline_choice\":pipeline, \"reviews\": reviews, \"sentiment\": sentiment, \"summary\":summary}"
      ]
    },
    {
      "cell_type": "markdown",
      "metadata": {
        "id": "dciKlIqbQUfP"
      },
      "source": [
        "### Edge Definition"
      ]
    },
    {
      "cell_type": "code",
      "execution_count": 29,
      "metadata": {
        "id": "34Q7WMmEoG0C"
      },
      "outputs": [],
      "source": [
        "def pipeline_choice_edge(state: GraphState):\n",
        "    \"\"\"\n",
        "    Decides the next node based on the pipeline choice:\n",
        "      - For 'a' (Base LLM): go directly to llm_summarize.\n",
        "      - For 'b' (Basic RAG): go to retrieve_reviews.\n",
        "      - For 'c' or 'd' (Advanced Agentic RAG): go to rewrite_query.\n",
        "    \"\"\"\n",
        "    choice = state[\"pipeline_choice\"].lower()\n",
        "    mapping = {\n",
        "         \"a\": \"llm_summarize\",\n",
        "         \"b\": \"retrieve_reviews\",\n",
        "         \"c\": \"rewrite_query\",\n",
        "         \"d\": \"rewrite_query\"\n",
        "    }\n",
        "    return mapping.get(choice, END)\n",
        "\n",
        "def sentiment_analysis_edge(state: GraphState):\n",
        "    \"\"\"\n",
        "    For the advanced agentic pipelines, after retrieving reviews, choose the model for sentiment analysis:\n",
        "      - For 'c': use the base language model for sentiment analysis.\n",
        "      - For 'd': use the finetuned lora model for sentiment analysis.\n",
        "    \"\"\"\n",
        "    choice = state[\"pipeline_choice\"].lower()\n",
        "    if choice == \"c\":\n",
        "        return \"analyze_sentiment_base\"\n",
        "    elif choice == \"d\":\n",
        "        return \"analyze_sentiment_lora\"\n",
        "    else:\n",
        "        return END"
      ]
    },
    {
      "cell_type": "markdown",
      "metadata": {
        "id": "AXCL6sHgQX2Y"
      },
      "source": [
        "### Graph Building"
      ]
    },
    {
      "cell_type": "code",
      "execution_count": 30,
      "metadata": {
        "colab": {
          "base_uri": "https://localhost:8080/"
        },
        "id": "Z4VurtBho4I6",
        "outputId": "452ffd80-a869-4114-f3d6-1d21a2c72adc"
      },
      "outputs": [
        {
          "data": {
            "text/plain": [
              "<langgraph.graph.state.StateGraph at 0x78d4bb2ddb50>"
            ]
          },
          "execution_count": 30,
          "metadata": {},
          "output_type": "execute_result"
        }
      ],
      "source": [
        "from langgraph.graph import Graph, END, StateGraph, START\n",
        "# Create a new workflow using your custom GraphState\n",
        "workflow = StateGraph(GraphState)\n",
        "\n",
        "# Add nodes\n",
        "workflow.add_node(\"choose_pipeline\", choose_pipeline)\n",
        "workflow.add_node(\"rewrite_query\", rewrite_query)\n",
        "workflow.add_node(\"base_rag_retrieve\", retrieve_reviews)  # For pipeline (b)\n",
        "workflow.add_node(\"advanced_rag_retrieve\", retrieve_reviews)  # For pipelines (c) and (d)\n",
        "workflow.add_node(\"analyze_sentiment_base\", analyze_sentiment_base)  # For pipeline (c)\n",
        "workflow.add_node(\"analyze_sentiment_lora\", analyze_sentiment_lora)  # For pipeline (d)\n",
        "workflow.add_node(\"llm_summarize\", llm_summarize) # For pipeline (a)\n",
        "workflow.add_node(\"rag_llm_summarize\", rag_llm_summarize) # For pipeline (b)\n",
        "workflow.add_node(\"agentic_rag_llm_summarize\", agentic_rag_llm_summarize) # For pipelines (c) and (d)\n",
        "\n",
        "# Start with choose_pipeline\n",
        "workflow.add_edge(START, \"choose_pipeline\")\n",
        "workflow.add_conditional_edges(\n",
        "    \"choose_pipeline\",\n",
        "    lambda state: state[\"pipeline_choice\"].lower(),\n",
        "    {\n",
        "        \"a\": \"llm_summarize\",\n",
        "        \"b\": \"base_rag_retrieve\",\n",
        "        \"c\": \"rewrite_query\",\n",
        "        \"d\": \"rewrite_query\"\n",
        "    }\n",
        ")\n",
        "\n",
        "# Pipeline (a): Base LLM\n",
        "# If pipeline_choice == 'a', then we directly go to llm_summarize, then END.\n",
        "workflow.add_edge(\"llm_summarize\", END)\n",
        "\n",
        "# Pipeline (b): Basic RAG: base_rag_retrieve → rag_llm_summarize → END.\n",
        "workflow.add_edge(\"base_rag_retrieve\", \"rag_llm_summarize\")\n",
        "workflow.add_edge(\"rag_llm_summarize\", END)\n",
        "\n",
        "# Pipelines (c) and (d): Advanced Agentic RAG.\n",
        "# They first pass through rewrite_query, then share the advanced_rag_retrieve node.\n",
        "workflow.add_edge(\"rewrite_query\", \"advanced_rag_retrieve\")\n",
        "# Conditional edge from retrieve_reviews\n",
        "workflow.add_conditional_edges(\n",
        "    \"advanced_rag_retrieve\",\n",
        "    lambda state: state[\"pipeline_choice\"].lower(),\n",
        "    {\n",
        "        \"c\": \"analyze_sentiment_base\",\n",
        "        \"d\": \"analyze_sentiment_lora\"\n",
        "    }\n",
        ")\n",
        "# Then, both paths converge into agentic_rag_llm_summarize → END.\n",
        "workflow.add_edge(\"analyze_sentiment_base\", \"agentic_rag_llm_summarize\")\n",
        "workflow.add_edge(\"analyze_sentiment_lora\", \"agentic_rag_llm_summarize\")\n",
        "workflow.add_edge(\"agentic_rag_llm_summarize\", END)"
      ]
    },
    {
      "cell_type": "code",
      "execution_count": 42,
      "metadata": {
        "colab": {
          "base_uri": "https://localhost:8080/",
          "height": 719
        },
        "id": "dH7VbEL3PkmU",
        "outputId": "96aa8fa7-cb35-477d-d77f-6153e0dbbab9"
      },
      "outputs": [
        {
          "data": {
            "image/png": "[encoded data removed]",
            "text/plain": [
              "<IPython.core.display.Image object>"
            ]
          },
          "metadata": {},
          "output_type": "display_data"
        }
      ],
      "source": [
        "# Compile the workflow\n",
        "from IPython.display import display, Image\n",
        "compiled_graph = workflow.compile()\n",
        "# Display the graph with MermaidDrawMethod\n",
        "display(\n",
        "    Image(\n",
        "        compiled_graph.get_graph().draw_mermaid_png(\n",
        "            draw_method=MermaidDrawMethod.API,\n",
        "        )\n",
        "    )\n",
        ")"
      ]
    },
    {
      "cell_type": "code",
      "execution_count": 53,
      "metadata": {
        "colab": {
          "base_uri": "https://localhost:8080/"
        },
        "id": "6gwHZPeZtBnz",
        "outputId": "7a523265-d124-42ab-c4d3-698cd2124006"
      },
      "outputs": [
        {
          "name": "stdout",
          "output_type": "stream",
          "text": [
            "Requirement already satisfied: dill in /usr/local/lib/python3.11/dist-packages (0.3.8)\n"
          ]
        }
      ],
      "source": [
        "!pip install dill"
      ]
    },
    {
      "cell_type": "code",
      "execution_count": 38,
      "metadata": {
        "colab": {
          "base_uri": "https://localhost:8080/"
        },
        "id": "SV7o39QZrqx1",
        "outputId": "8d93fafd-9994-4f73-d003-c60172c42d38"
      },
      "outputs": [
        {
          "name": "stdout",
          "output_type": "stream",
          "text": [
            "Graph compiled and saved at /content/drive/MyDrive/dl_models/compiled_graph.pkl\n"
          ]
        }
      ],
      "source": [
        "import dill as pickle\n",
        "# Save the Compiled Graph on Colab\n",
        "save_path = \"/content/drive/MyDrive/dl_models/compiled_graph.pkl\"\n",
        "with open(save_path, \"wb\") as f:\n",
        "    pickle.dump(compiled_graph, f)\n",
        "print(f\"Graph compiled and saved at {save_path}\")"
      ]
    },
    {
      "cell_type": "markdown",
      "metadata": {
        "id": "Tlltv3-f7Gfj"
      },
      "source": [
        "# Building the Front-End System"
      ]
    },
    {
      "cell_type": "code",
      "execution_count": 4,
      "metadata": {
        "colab": {
          "base_uri": "https://localhost:8080/"
        },
        "id": "iUSKQ6PyDaNg",
        "outputId": "c53ee2e4-b213-4e72-da67-4aa7dc1e9661"
      },
      "outputs": [
        {
          "name": "stdout",
          "output_type": "stream",
          "text": [
            "Collecting pyngrok\n",
            "  Downloading pyngrok-7.2.3-py3-none-any.whl.metadata (8.7 kB)\n",
            "Requirement already satisfied: flask in /usr/local/lib/python3.11/dist-packages (3.1.0)\n",
            "Requirement already satisfied: PyYAML>=5.1 in /usr/local/lib/python3.11/dist-packages (from pyngrok) (6.0.2)\n",
            "Requirement already satisfied: Werkzeug>=3.1 in /usr/local/lib/python3.11/dist-packages (from flask) (3.1.3)\n",
            "Requirement already satisfied: Jinja2>=3.1.2 in /usr/local/lib/python3.11/dist-packages (from flask) (3.1.6)\n",
            "Requirement already satisfied: itsdangerous>=2.2 in /usr/local/lib/python3.11/dist-packages (from flask) (2.2.0)\n",
            "Requirement already satisfied: click>=8.1.3 in /usr/local/lib/python3.11/dist-packages (from flask) (8.1.8)\n",
            "Requirement already satisfied: blinker>=1.9 in /usr/local/lib/python3.11/dist-packages (from flask) (1.9.0)\n",
            "Requirement already satisfied: MarkupSafe>=2.0 in /usr/local/lib/python3.11/dist-packages (from Jinja2>=3.1.2->flask) (3.0.2)\n",
            "Downloading pyngrok-7.2.3-py3-none-any.whl (23 kB)\n",
            "Installing collected packages: pyngrok\n",
            "Successfully installed pyngrok-7.2.3\n"
          ]
        }
      ],
      "source": [
        "!pip install pyngrok flask"
      ]
    },
    {
      "cell_type": "code",
      "execution_count": 4,
      "metadata": {
        "id": "iz6-NeNWDpSy"
      },
      "outputs": [],
      "source": [
        "from pyngrok import ngrok\n",
        "ngrok.set_auth_token(ngrok_key) # replace with your own token"
      ]
    },
    {
      "cell_type": "code",
      "execution_count": 46,
      "metadata": {
        "colab": {
          "base_uri": "https://localhost:8080/"
        },
        "id": "e-iP_1waHosD",
        "outputId": "59b5e34c-e7bd-4cd8-ad7a-7c3f9ce8533c"
      },
      "outputs": [
        {
          "name": "stdout",
          "output_type": "stream",
          "text": [
            "Public URL: NgrokTunnel: \"https://109f-34-147-109-70.ngrok-free.app\" -> \"http://localhost:5000\"\n",
            " * Serving Flask app '__main__'\n",
            " * Debug mode: off\n"
          ]
        },
        {
          "name": "stderr",
          "output_type": "stream",
          "text": [
            "INFO:werkzeug:\u001b[31m\u001b[1mWARNING: This is a development server. Do not use it in a production deployment. Use a production WSGI server instead.\u001b[0m\n",
            " * Running on http://127.0.0.1:5000\n",
            "INFO:werkzeug:\u001b[33mPress CTRL+C to quit\u001b[0m\n",
            "INFO:werkzeug:127.0.0.1 - - [21/Mar/2025 17:25:56] \"GET / HTTP/1.1\" 200 -\n",
            "INFO:werkzeug:127.0.0.1 - - [21/Mar/2025 17:25:56] \"\u001b[33mGET /favicon.ico HTTP/1.1\u001b[0m\" 404 -\n"
          ]
        },
        {
          "name": "stdout",
          "output_type": "stream",
          "text": [
            "---DECISION: Using pipeline 'b'---\n",
            "Node 'choose_pipeline' visited. State keys: ['pipeline_choice']\n",
            "---RETRIEVE REVIEWS---\n",
            "Node 'base_rag_retrieve' visited. State keys: ['query', 'pipeline_choice', 'reviews']\n",
            "---ANSWER QUERY WITH RAG+LLM SUMMARIZER---\n"
          ]
        },
        {
          "name": "stderr",
          "output_type": "stream",
          "text": [
            "INFO:werkzeug:127.0.0.1 - - [21/Mar/2025 17:26:02] \"POST / HTTP/1.1\" 200 -\n"
          ]
        },
        {
          "name": "stdout",
          "output_type": "stream",
          "text": [
            "Node 'rag_llm_summarize' visited. State keys: ['query', 'pipeline_choice', 'reviews', 'summary']\n",
            "---DECISION: Using pipeline 'c'---\n",
            "Node 'choose_pipeline' visited. State keys: ['pipeline_choice']\n",
            "---REWRITE QUERY---\n",
            "Node 'rewrite_query' visited. State keys: ['query', 'pipeline_choice']\n",
            "---RETRIEVE REVIEWS---\n",
            "Node 'advanced_rag_retrieve' visited. State keys: ['query', 'pipeline_choice', 'reviews']\n",
            "---ANALYZE SENTIMENT WITH BASE MODEL---\n",
            "Node 'analyze_sentiment_base' visited. State keys: ['query', 'pipeline_choice', 'reviews', 'sentiment']\n",
            "---ANSWER QUERY WITH AGENTIC RAG+SENTIMENT SUMMARIZER---\n"
          ]
        },
        {
          "name": "stderr",
          "output_type": "stream",
          "text": [
            "INFO:werkzeug:127.0.0.1 - - [21/Mar/2025 17:26:21] \"POST / HTTP/1.1\" 200 -\n"
          ]
        },
        {
          "name": "stdout",
          "output_type": "stream",
          "text": [
            "Node 'agentic_rag_llm_summarize' visited. State keys: ['query', 'pipeline_choice', 'reviews', 'sentiment', 'summary']\n",
            "---DECISION: Using pipeline 'a'---\n",
            "Node 'choose_pipeline' visited. State keys: ['pipeline_choice']\n",
            "---ANSWER QUERY WITH SIMPLE LLM SUMMARIZER---\n"
          ]
        },
        {
          "name": "stderr",
          "output_type": "stream",
          "text": [
            "INFO:werkzeug:127.0.0.1 - - [21/Mar/2025 18:16:13] \"POST / HTTP/1.1\" 200 -\n"
          ]
        },
        {
          "name": "stdout",
          "output_type": "stream",
          "text": [
            "Node 'llm_summarize' visited. State keys: ['query', 'pipeline_choice', 'summary']\n",
            "---DECISION: Using pipeline 'b'---\n",
            "Node 'choose_pipeline' visited. State keys: ['pipeline_choice']\n",
            "---RETRIEVE REVIEWS---\n",
            "Node 'base_rag_retrieve' visited. State keys: ['query', 'pipeline_choice', 'reviews']\n",
            "---ANSWER QUERY WITH RAG+LLM SUMMARIZER---\n"
          ]
        },
        {
          "name": "stderr",
          "output_type": "stream",
          "text": [
            "INFO:werkzeug:127.0.0.1 - - [21/Mar/2025 18:17:18] \"POST / HTTP/1.1\" 200 -\n"
          ]
        },
        {
          "name": "stdout",
          "output_type": "stream",
          "text": [
            "Node 'rag_llm_summarize' visited. State keys: ['query', 'pipeline_choice', 'reviews', 'summary']\n",
            "---DECISION: Using pipeline 'b'---\n",
            "Node 'choose_pipeline' visited. State keys: ['pipeline_choice']\n",
            "---RETRIEVE REVIEWS---\n",
            "Node 'base_rag_retrieve' visited. State keys: ['query', 'pipeline_choice', 'reviews']\n",
            "---ANSWER QUERY WITH RAG+LLM SUMMARIZER---\n"
          ]
        },
        {
          "name": "stderr",
          "output_type": "stream",
          "text": [
            "INFO:werkzeug:127.0.0.1 - - [21/Mar/2025 18:18:56] \"POST / HTTP/1.1\" 200 -\n"
          ]
        },
        {
          "name": "stdout",
          "output_type": "stream",
          "text": [
            "Node 'rag_llm_summarize' visited. State keys: ['query', 'pipeline_choice', 'reviews', 'summary']\n",
            "---DECISION: Using pipeline 'c'---\n",
            "Node 'choose_pipeline' visited. State keys: ['pipeline_choice']\n",
            "---REWRITE QUERY---\n",
            "Node 'rewrite_query' visited. State keys: ['query', 'pipeline_choice']\n",
            "---RETRIEVE REVIEWS---\n",
            "Node 'advanced_rag_retrieve' visited. State keys: ['query', 'pipeline_choice', 'reviews']\n",
            "---ANALYZE SENTIMENT WITH BASE MODEL---\n",
            "Node 'analyze_sentiment_base' visited. State keys: ['query', 'pipeline_choice', 'reviews', 'sentiment']\n",
            "---ANSWER QUERY WITH AGENTIC RAG+SENTIMENT SUMMARIZER---\n"
          ]
        },
        {
          "name": "stderr",
          "output_type": "stream",
          "text": [
            "INFO:werkzeug:127.0.0.1 - - [21/Mar/2025 18:20:37] \"POST / HTTP/1.1\" 200 -\n"
          ]
        },
        {
          "name": "stdout",
          "output_type": "stream",
          "text": [
            "Node 'agentic_rag_llm_summarize' visited. State keys: ['query', 'pipeline_choice', 'reviews', 'sentiment', 'summary']\n",
            "---DECISION: Using pipeline 'd'---\n",
            "Node 'choose_pipeline' visited. State keys: ['pipeline_choice']\n",
            "---REWRITE QUERY---\n",
            "Node 'rewrite_query' visited. State keys: ['query', 'pipeline_choice']\n",
            "---RETRIEVE REVIEWS---\n",
            "Node 'advanced_rag_retrieve' visited. State keys: ['query', 'pipeline_choice', 'reviews']\n",
            "---ANALYZE SENTIMENT WITH LORA MODEL---\n"
          ]
        },
        {
          "name": "stderr",
          "output_type": "stream",
          "text": [
            "/usr/local/lib/python3.11/dist-packages/peft/config.py:162: UserWarning: Unexpected keyword arguments ['corda_config', 'trainable_token_indices'] for class LoraConfig, these are ignored. This probably means that you're loading a configuration file that was saved using a higher version of the library and additional parameters have been introduced since. It is highly recommended to upgrade the PEFT version before continuing (e.g. by running `pip install -U peft`).\n",
            "  warnings.warn(\n"
          ]
        },
        {
          "name": "stdout",
          "output_type": "stream",
          "text": [
            "Node 'analyze_sentiment_lora' visited. State keys: ['query', 'pipeline_choice', 'reviews', 'sentiment']\n",
            "---ANSWER QUERY WITH AGENTIC RAG+SENTIMENT SUMMARIZER---\n"
          ]
        },
        {
          "name": "stderr",
          "output_type": "stream",
          "text": [
            "INFO:werkzeug:127.0.0.1 - - [21/Mar/2025 18:22:44] \"POST / HTTP/1.1\" 200 -\n"
          ]
        },
        {
          "name": "stdout",
          "output_type": "stream",
          "text": [
            "Node 'agentic_rag_llm_summarize' visited. State keys: ['query', 'pipeline_choice', 'reviews', 'sentiment', 'summary']\n"
          ]
        }
      ],
      "source": [
        "from flask import Flask, request, render_template_string\n",
        "from pyngrok import ngrok\n",
        "import dill as pickle\n",
        "from IPython.display import Image\n",
        "from pprint import pprint\n",
        "\n",
        "# Initialize Flask app\n",
        "app_web = Flask(__name__)\n",
        "\n",
        "# Expose the app via ngrok (if desired)\n",
        "public_url = ngrok.connect(5000)\n",
        "print(\"Public URL:\", public_url)\n",
        "\n",
        "# HTML template with a query input and a dropdown for pipeline selection.\n",
        "HTML_TEMPLATE = \"\"\"\n",
        "<html>\n",
        "  <head>\n",
        "    <title>Multi-Agent Query System</title>\n",
        "    <style>\n",
        "      body { font-size: 16px; font-family: sans-serif; }\n",
        "      .container { width: 80%; margin: auto; }\n",
        "      .query, .result { font-size: 16px; }\n",
        "      .review { margin-bottom: 15px; }\n",
        "      pre { background: #f0f0f0; padding: 10px; }\n",
        "    </style>\n",
        "  </head>\n",
        "  <body>\n",
        "    <div class=\"container\">\n",
        "      <h1>Multi-Agent Query System</h1>\n",
        "      <form method=\"POST\">\n",
        "        <label for=\"prompt\">Enter your query:</label>\n",
        "        <input type=\"text\" id=\"prompt\" name=\"prompt\" style=\"width:400px;\" placeholder=\"Enter query here\" required />\n",
        "        <br><br>\n",
        "        <label for=\"pipeline_choice\">Select the method you want to get the response:</label>\n",
        "        <select id=\"pipeline_choice\" name=\"pipeline_choice\">\n",
        "          <option value=\"a\">Base LLM (no RAG)</option>\n",
        "          <option value=\"b\">Basic RAG (retriever + LLM summarizer)</option>\n",
        "          <option value=\"c\">Advanced Agentic RAG (base model)</option>\n",
        "          <option value=\"d\">Advanced Agentic RAG (LoRA-finetuned)</option>\n",
        "        </select>\n",
        "        <br><br>\n",
        "        <input type=\"submit\" value=\"Submit\" />\n",
        "      </form>\n",
        "\n",
        "      {% if prompt %}\n",
        "        <div class=\"query\">\n",
        "          <h2>Query:</h2>\n",
        "          <p>{{ prompt }}</p>\n",
        "        </div>\n",
        "        <hr>\n",
        "      {% endif %}\n",
        "\n",
        "      {% if result %}\n",
        "         <div class=\"result\">\n",
        "          <h2>Query Results:</h2>\n",
        "          {% if result.reviews %}\n",
        "             <h3>Related Reviews:</h3>\n",
        "             <ul>\n",
        "             {% for review in result.reviews %}\n",
        "                <li class=\"review\"><p>{{ review }}</p></li>\n",
        "             {% endfor %}\n",
        "             </ul>\n",
        "          {% endif %}\n",
        "          <p><strong>Analyzed Sentiment:</strong> {{ result.sentiment }}</p>\n",
        "          <p><strong>Final Summary:</strong> {{ result.summary }}</p>\n",
        "         </div>\n",
        "      {% endif %}\n",
        "    </div>\n",
        "  </body>\n",
        "</html>\n",
        "\"\"\"\n",
        "\n",
        "@app_web.route(\"/\", methods=[\"GET\", \"POST\"])\n",
        "def index():\n",
        "    result = None\n",
        "    prompt = None\n",
        "    if request.method == \"POST\":\n",
        "        prompt = request.form.get(\"prompt\")\n",
        "        pipeline_choice = request.form.get(\"pipeline_choice\")  # \"a\", \"b\", \"c\", or \"d\"\n",
        "        # Build the initial state for the graph.\n",
        "        inputs = {\n",
        "            \"query\": prompt,\n",
        "            \"pipeline_choice\": pipeline_choice,\n",
        "            # Other keys like reviews, sentiment, summary can be left undefined (or empty)\n",
        "            \"reviews\": [],\n",
        "            \"sentiment\": [],\n",
        "            \"summary\": \"\"\n",
        "        }\n",
        "        runconfig = {\"recursion_limit\": 50}\n",
        "        final_output = {}\n",
        "         # Stream execution: each yield is a dict {node_name: state_dict}\n",
        "        for output in compiled_graph.stream(inputs, config=runconfig):\n",
        "            for node_name, state_dict in output.items():\n",
        "                print(f\"Node '{node_name}' visited. State keys: {list(state_dict.keys())}\")\n",
        "                final_output = state_dict  # Keep track of the latest state\n",
        "\n",
        "        if final_output and \"summary\" in final_output:\n",
        "            result = final_output\n",
        "        else:\n",
        "            result = {\"reviews\": [], \"sentiment\": \"N/A\", \"summary\": \"No summary available.\"}\n",
        "\n",
        "    return render_template_string(HTML_TEMPLATE, prompt=prompt, result=result)\n",
        "\n",
        "if __name__ == \"__main__\":\n",
        "    app_web.run()"
      ]
    },
    {
      "cell_type": "markdown",
      "metadata": {
        "id": "faDhod08QvJx"
      },
      "source": [
        "# Test Running with Sample Prompts"
      ]
    },
    {
      "cell_type": "code",
      "execution_count": 44,
      "metadata": {
        "colab": {
          "base_uri": "https://localhost:8080/"
        },
        "id": "N2OH27NEQrMg",
        "outputId": "339560b2-8d8c-4e04-d1b2-50c6ca06d444"
      },
      "outputs": [
        {
          "name": "stdout",
          "output_type": "stream",
          "text": [
            "\n",
            "=== Running Test Prompt 1: What is the most suitable sunscreen product for sensitive skin in Sephora? ===\n",
            "\n",
            "--- Running pipeline a: Base LLM (no RAG) ---\n",
            "---DECISION: Using pipeline 'a'---\n",
            "Node 'choose_pipeline' visited. State keys: ['pipeline_choice']\n",
            "---ANSWER QUERY WITH SIMPLE LLM SUMMARIZER---\n",
            "Node 'llm_summarize' visited. State keys: ['query', 'pipeline_choice', 'summary']\n",
            "\n",
            "Final Summary:\n",
            "('For sensitive skin, a good option for sunscreen at Sephora would be the '\n",
            " 'Supergoop! Unseen Sunscreen SPF 40. This sunscreen is lightweight, oil-free, '\n",
            " 'and fragrance-free, making it suitable for sensitive skin. It also provides '\n",
            " 'broad-spectrum protection and is gentle enough for daily use.')\n",
            "\n",
            "--- Running pipeline b: Basic RAG (retriever + LLM summarizer) ---\n",
            "---DECISION: Using pipeline 'b'---\n",
            "Node 'choose_pipeline' visited. State keys: ['pipeline_choice']\n",
            "---RETRIEVE REVIEWS---\n",
            "Node 'base_rag_retrieve' visited. State keys: ['query', 'pipeline_choice', 'reviews']\n",
            "---ANSWER QUERY WITH RAG+LLM SUMMARIZER---\n",
            "Node 'rag_llm_summarize' visited. State keys: ['query', 'pipeline_choice', 'reviews', 'summary']\n",
            "\n",
            "Final Summary:\n",
            "('The most suitable sunscreen product for sensitive skin at Sephora is the '\n",
            " 'Sunday Riley Juno Antioxidant + Superfood Face Oil.')\n",
            "\n",
            "--- Running pipeline c: Advanced agentic RAG with base model (no fine-tuning) ---\n",
            "---DECISION: Using pipeline 'c'---\n",
            "Node 'choose_pipeline' visited. State keys: ['pipeline_choice']\n",
            "---REWRITE QUERY---\n",
            "Node 'rewrite_query' visited. State keys: ['query', 'pipeline_choice']\n",
            "---RETRIEVE REVIEWS---\n",
            "Node 'advanced_rag_retrieve' visited. State keys: ['query', 'pipeline_choice', 'reviews']\n",
            "---ANALYZE SENTIMENT WITH BASE MODEL---\n",
            "Node 'analyze_sentiment_base' visited. State keys: ['query', 'pipeline_choice', 'reviews', 'sentiment']\n",
            "---ANSWER QUERY WITH AGENTIC RAG+SENTIMENT SUMMARIZER---\n",
            "Node 'agentic_rag_llm_summarize' visited. State keys: ['query', 'pipeline_choice', 'reviews', 'sentiment', 'summary']\n",
            "\n",
            "Final Summary:\n",
            "('Based on the reviews, a highly recommended sunscreen product for sensitive '\n",
            " 'skin at Sephora is the sunscreen that not only provides sun protection but '\n",
            " 'also helps in making foundation makeup go on smoothly. Users have praised '\n",
            " 'the product for its positive effects on their skin, such as moisturizing, '\n",
            " 'skin renewal, and suitability for sensitive skin and eyes. Additionally, the '\n",
            " 'product has been described as a great addition to skincare routines, with '\n",
            " 'some users particularly appreciating its light fragrance and ease of '\n",
            " 'application. Overall, the sentiment towards this sunscreen product is '\n",
            " 'overwhelmingly positive, making it a top choice for those with sensitive '\n",
            " 'skin looking for effective sun protection.')\n",
            "\n",
            "--- Running pipeline d: Advanced agentic RAG with fine-tuned model ---\n",
            "---DECISION: Using pipeline 'd'---\n",
            "Node 'choose_pipeline' visited. State keys: ['pipeline_choice']\n",
            "---REWRITE QUERY---\n",
            "Node 'rewrite_query' visited. State keys: ['query', 'pipeline_choice']\n",
            "---RETRIEVE REVIEWS---\n",
            "Node 'advanced_rag_retrieve' visited. State keys: ['query', 'pipeline_choice', 'reviews']\n",
            "---ANALYZE SENTIMENT WITH LORA MODEL---\n"
          ]
        },
        {
          "name": "stderr",
          "output_type": "stream",
          "text": [
            "/usr/local/lib/python3.11/dist-packages/peft/config.py:162: UserWarning: Unexpected keyword arguments ['corda_config', 'trainable_token_indices'] for class LoraConfig, these are ignored. This probably means that you're loading a configuration file that was saved using a higher version of the library and additional parameters have been introduced since. It is highly recommended to upgrade the PEFT version before continuing (e.g. by running `pip install -U peft`).\n",
            "  warnings.warn(\n"
          ]
        },
        {
          "name": "stdout",
          "output_type": "stream",
          "text": [
            "Node 'analyze_sentiment_lora' visited. State keys: ['query', 'pipeline_choice', 'reviews', 'sentiment']\n",
            "---ANSWER QUERY WITH AGENTIC RAG+SENTIMENT SUMMARIZER---\n",
            "Node 'agentic_rag_llm_summarize' visited. State keys: ['query', 'pipeline_choice', 'reviews', 'sentiment', 'summary']\n",
            "\n",
            "Final Summary:\n",
            "('Based on the reviews from Sephora customers, the best sunscreen for '\n",
            " 'sensitive skin would be a product that not only provides sun protection but '\n",
            " 'also caters to sensitive skin needs. Customers have highlighted the '\n",
            " 'importance of finding a sunscreen that is gentle on the skin and works well '\n",
            " 'with other skincare products. \\n'\n",
            " '\\n'\n",
            " 'Overall, the reviews indicate that the ideal sunscreen for sensitive skin at '\n",
            " 'Sephora should be a versatile product that can also function as a '\n",
            " 'moisturizer and contribute to skin renewal. Customers have praised products '\n",
            " 'that are gentle, effective, and do not cause irritation or dryness. '\n",
            " 'Additionally, users have appreciated sunscreens that help improve skin tone, '\n",
            " 'make the skin softer, and enhance the overall appearance of the skin.\\n'\n",
            " '\\n'\n",
            " 'In conclusion, the best sunscreen for sensitive skin at Sephora should be a '\n",
            " 'multi-functional product that is gentle, effective, and suitable for '\n",
            " 'sensitive skin types. Based on the reviews, it is recommended to look for a '\n",
            " 'sunscreen that not only provides sun protection but also offers additional '\n",
            " 'skincare benefits such as moisturization and skin renewal.')\n",
            "\n",
            "====================================\n",
            "\n",
            "=== Running Test Prompt 2: How do users feel about lipstick products in Sephora based on the reviews? ===\n",
            "\n",
            "--- Running pipeline a: Base LLM (no RAG) ---\n",
            "---DECISION: Using pipeline 'a'---\n",
            "Node 'choose_pipeline' visited. State keys: ['pipeline_choice']\n",
            "---ANSWER QUERY WITH SIMPLE LLM SUMMARIZER---\n",
            "Node 'llm_summarize' visited. State keys: ['query', 'pipeline_choice', 'summary']\n",
            "\n",
            "Final Summary:\n",
            "('Based on the reviews from Sephora users, the feelings about lipstick '\n",
            " 'products vary. Some users have expressed positive feedback about the '\n",
            " 'quality, color range, and lasting power of the lipsticks. However, there are '\n",
            " 'also users who have shared negative experiences, such as issues with the '\n",
            " 'formula, pigmentation, or longevity of the products. It is recommended to '\n",
            " 'read a variety of reviews to get a well-rounded understanding of how users '\n",
            " 'feel about lipstick products at Sephora before making a purchase.')\n",
            "\n",
            "--- Running pipeline b: Basic RAG (retriever + LLM summarizer) ---\n",
            "---DECISION: Using pipeline 'b'---\n",
            "Node 'choose_pipeline' visited. State keys: ['pipeline_choice']\n",
            "---RETRIEVE REVIEWS---\n",
            "Node 'base_rag_retrieve' visited. State keys: ['query', 'pipeline_choice', 'reviews']\n",
            "---ANSWER QUERY WITH RAG+LLM SUMMARIZER---\n",
            "Node 'rag_llm_summarize' visited. State keys: ['query', 'pipeline_choice', 'reviews', 'summary']\n",
            "\n",
            "Final Summary:\n",
            "('Based on the reviews, users have mixed feelings about lipstick products in '\n",
            " 'Sephora. Some users are pleased with their purchases, while others are not '\n",
            " 'satisfied with the products they tried.')\n",
            "\n",
            "--- Running pipeline c: Advanced agentic RAG with base model (no fine-tuning) ---\n",
            "---DECISION: Using pipeline 'c'---\n",
            "Node 'choose_pipeline' visited. State keys: ['pipeline_choice']\n",
            "---REWRITE QUERY---\n",
            "Node 'rewrite_query' visited. State keys: ['query', 'pipeline_choice']\n",
            "---RETRIEVE REVIEWS---\n",
            "Node 'advanced_rag_retrieve' visited. State keys: ['query', 'pipeline_choice', 'reviews']\n",
            "---ANALYZE SENTIMENT WITH BASE MODEL---\n",
            "Node 'analyze_sentiment_base' visited. State keys: ['query', 'pipeline_choice', 'reviews', 'sentiment']\n",
            "---ANSWER QUERY WITH AGENTIC RAG+SENTIMENT SUMMARIZER---\n",
            "Node 'agentic_rag_llm_summarize' visited. State keys: ['query', 'pipeline_choice', 'reviews', 'sentiment', 'summary']\n",
            "\n",
            "Final Summary:\n",
            "('Based on the reviews analyzed, the sentiments regarding lipstick products '\n",
            " 'from Sephora are generally positive. Users appreciate the benefits of the '\n",
            " 'products such as smoothness, moisturization, and ease of application. '\n",
            " 'However, there are also some concerns raised by users regarding fragrance, '\n",
            " 'pricing, and effectiveness compared to other products on the market. '\n",
            " 'Overall, the sentiment is mixed, with some users expressing satisfaction '\n",
            " 'with the products while others have reservations.')\n",
            "\n",
            "--- Running pipeline d: Advanced agentic RAG with fine-tuned model ---\n",
            "---DECISION: Using pipeline 'd'---\n",
            "Node 'choose_pipeline' visited. State keys: ['pipeline_choice']\n",
            "---REWRITE QUERY---\n",
            "Node 'rewrite_query' visited. State keys: ['query', 'pipeline_choice']\n",
            "---RETRIEVE REVIEWS---\n",
            "Node 'advanced_rag_retrieve' visited. State keys: ['query', 'pipeline_choice', 'reviews']\n",
            "---ANALYZE SENTIMENT WITH LORA MODEL---\n"
          ]
        },
        {
          "name": "stderr",
          "output_type": "stream",
          "text": [
            "/usr/local/lib/python3.11/dist-packages/peft/config.py:162: UserWarning: Unexpected keyword arguments ['corda_config', 'trainable_token_indices'] for class LoraConfig, these are ignored. This probably means that you're loading a configuration file that was saved using a higher version of the library and additional parameters have been introduced since. It is highly recommended to upgrade the PEFT version before continuing (e.g. by running `pip install -U peft`).\n",
            "  warnings.warn(\n"
          ]
        },
        {
          "name": "stdout",
          "output_type": "stream",
          "text": [
            "Node 'analyze_sentiment_lora' visited. State keys: ['query', 'pipeline_choice', 'reviews', 'sentiment']\n",
            "---ANSWER QUERY WITH AGENTIC RAG+SENTIMENT SUMMARIZER---\n",
            "Node 'agentic_rag_llm_summarize' visited. State keys: ['query', 'pipeline_choice', 'reviews', 'sentiment', 'summary']\n",
            "\n",
            "Final Summary:\n",
            "('Based on the reviews of lipstick products at Sephora, the general sentiments '\n",
            " 'are mixed. Two reviews expressed positive sentiments towards the product, '\n",
            " 'highlighting benefits such as not causing breakouts, pleasant scent, and '\n",
            " 'positive effects on fine lines. One review had a neutral sentiment, '\n",
            " 'mentioning that the product made their face glowy but was too fragrant for '\n",
            " 'their liking. The remaining two reviews also had neutral sentiments, with '\n",
            " \"one customer feeling disappointed in the product's performance compared to \"\n",
            " 'its price and another customer expressing concerns about the packaging and '\n",
            " 'the number of steps in their skincare routine.\\n'\n",
            " '\\n'\n",
            " 'Overall, the sentiment towards lipstick products at Sephora seems to be a '\n",
            " 'mix of positive and neutral feedback. Customers appreciate certain aspects '\n",
            " 'of the products, such as their effectiveness and pleasant scent, but there '\n",
            " 'are also concerns raised about the pricing, packaging, and overall '\n",
            " 'performance.')\n",
            "\n",
            "====================================\n",
            "\n",
            "=== Running Test Prompt 3: Which are the most trendy types of perfume, and how do users feel about them? ===\n",
            "\n",
            "--- Running pipeline a: Base LLM (no RAG) ---\n",
            "---DECISION: Using pipeline 'a'---\n",
            "Node 'choose_pipeline' visited. State keys: ['pipeline_choice']\n",
            "---ANSWER QUERY WITH SIMPLE LLM SUMMARIZER---\n",
            "Node 'llm_summarize' visited. State keys: ['query', 'pipeline_choice', 'summary']\n",
            "\n",
            "Final Summary:\n",
            "('Some of the most trendy types of perfume currently are:\\n'\n",
            " '\\n'\n",
            " '1. Floral scents: These are classic and timeless, often associated with '\n",
            " 'femininity and elegance.\\n'\n",
            " '2. Fruity scents: These are popular for their sweet and fresh notes, '\n",
            " 'appealing to a wide range of users.\\n'\n",
            " '3. Woody scents: These are warm and earthy, often considered unisex and '\n",
            " 'suitable for all seasons.\\n'\n",
            " '4. Oriental scents: These are rich and exotic, often featuring spicy and '\n",
            " 'warm notes that make a bold statement.\\n'\n",
            " '\\n'\n",
            " 'Users generally have positive feelings towards trendy perfumes as they enjoy '\n",
            " 'staying up-to-date with the latest fragrance trends. Many users appreciate '\n",
            " 'the variety of options available and the opportunity to express their '\n",
            " 'personal style through their choice of perfume. Overall, trendy perfumes are '\n",
            " 'well-received by users who enjoy experimenting with different scents and '\n",
            " 'staying current with the latest fragrance trends.')\n",
            "\n",
            "--- Running pipeline b: Basic RAG (retriever + LLM summarizer) ---\n",
            "---DECISION: Using pipeline 'b'---\n",
            "Node 'choose_pipeline' visited. State keys: ['pipeline_choice']\n",
            "---RETRIEVE REVIEWS---\n",
            "Node 'base_rag_retrieve' visited. State keys: ['query', 'pipeline_choice', 'reviews']\n",
            "---ANSWER QUERY WITH RAG+LLM SUMMARIZER---\n",
            "Node 'rag_llm_summarize' visited. State keys: ['query', 'pipeline_choice', 'reviews', 'summary']\n",
            "\n",
            "Final Summary:\n",
            "('Based on the user feedback provided, it seems that light, pleasant scents '\n",
            " 'are trendy in perfumes. Users generally appreciate fragrances that are not '\n",
            " 'overwhelming and complement their skincare routine without competing with '\n",
            " 'their regular perfume.')\n",
            "\n",
            "--- Running pipeline c: Advanced agentic RAG with base model (no fine-tuning) ---\n",
            "---DECISION: Using pipeline 'c'---\n",
            "Node 'choose_pipeline' visited. State keys: ['pipeline_choice']\n",
            "---REWRITE QUERY---\n",
            "Node 'rewrite_query' visited. State keys: ['query', 'pipeline_choice']\n",
            "---RETRIEVE REVIEWS---\n",
            "Node 'advanced_rag_retrieve' visited. State keys: ['query', 'pipeline_choice', 'reviews']\n",
            "---ANALYZE SENTIMENT WITH BASE MODEL---\n",
            "Node 'analyze_sentiment_base' visited. State keys: ['query', 'pipeline_choice', 'reviews', 'sentiment']\n",
            "---ANSWER QUERY WITH AGENTIC RAG+SENTIMENT SUMMARIZER---\n",
            "Node 'agentic_rag_llm_summarize' visited. State keys: ['query', 'pipeline_choice', 'reviews', 'sentiment', 'summary']\n",
            "\n",
            "Final Summary:\n",
            "('The most popular perfume types based on user reviews are light and pleasant '\n",
            " 'scents that are not overwhelming. Users have generally expressed positive '\n",
            " 'sentiments towards these perfumes, appreciating their subtle and non-greasy '\n",
            " 'fragrance. While some users found the scent to be too strong for their '\n",
            " 'liking, the majority enjoyed the light and floral fragrances that left their '\n",
            " 'skin feeling smooth, moisturized, and hydrated. Overall, the user reviews '\n",
            " 'indicate that popular perfume types are those with subtle scents that '\n",
            " 'provide a pleasant and refreshing experience for the users.')\n",
            "\n",
            "--- Running pipeline d: Advanced agentic RAG with fine-tuned model ---\n",
            "---DECISION: Using pipeline 'd'---\n",
            "Node 'choose_pipeline' visited. State keys: ['pipeline_choice']\n",
            "---REWRITE QUERY---\n",
            "Node 'rewrite_query' visited. State keys: ['query', 'pipeline_choice']\n",
            "---RETRIEVE REVIEWS---\n",
            "Node 'advanced_rag_retrieve' visited. State keys: ['query', 'pipeline_choice', 'reviews']\n",
            "---ANALYZE SENTIMENT WITH LORA MODEL---\n"
          ]
        },
        {
          "name": "stderr",
          "output_type": "stream",
          "text": [
            "/usr/local/lib/python3.11/dist-packages/peft/config.py:162: UserWarning: Unexpected keyword arguments ['corda_config', 'trainable_token_indices'] for class LoraConfig, these are ignored. This probably means that you're loading a configuration file that was saved using a higher version of the library and additional parameters have been introduced since. It is highly recommended to upgrade the PEFT version before continuing (e.g. by running `pip install -U peft`).\n",
            "  warnings.warn(\n"
          ]
        },
        {
          "name": "stdout",
          "output_type": "stream",
          "text": [
            "Node 'analyze_sentiment_lora' visited. State keys: ['query', 'pipeline_choice', 'reviews', 'sentiment']\n",
            "---ANSWER QUERY WITH AGENTIC RAG+SENTIMENT SUMMARIZER---\n",
            "Node 'agentic_rag_llm_summarize' visited. State keys: ['query', 'pipeline_choice', 'reviews', 'sentiment', 'summary']\n",
            "\n",
            "Final Summary:\n",
            "('Based on the reviews provided, the most popular types of perfume seem to '\n",
            " 'have mixed sentiments among users. While some users appreciate the pleasant '\n",
            " 'scent and skincare benefits of the products, others find the fragrance to be '\n",
            " 'too strong or not to their liking. \\n'\n",
            " '\\n'\n",
            " 'Reviewers who enjoyed the perfumes mentioned positive experiences such as '\n",
            " 'smoother, moisturized skin, pleasant scents, and ease of makeup application. '\n",
            " 'They also noted benefits like hydration, plumping effects, and a reduction '\n",
            " 'in fine lines. These users expressed satisfaction with the product and '\n",
            " 'indicated a willingness to repurchase.\\n'\n",
            " '\\n'\n",
            " 'On the other hand, reviewers with neutral sentiments pointed out aspects '\n",
            " 'they were not fond of, such as the strong perfume-like smell, concerns about '\n",
            " 'the packaging size versus the actual product amount, and compatibility '\n",
            " 'issues with other fragrances or cosmetics.\\n'\n",
            " '\\n'\n",
            " 'In summary, the most popular types of perfume seem to have a diverse range '\n",
            " 'of user sentiments, with some users praising the product for its skincare '\n",
            " 'benefits and pleasant scent, while others have reservations about aspects '\n",
            " 'like fragrance intensity and packaging size.')\n",
            "\n",
            "====================================\n",
            "\n",
            "=== Running Test Prompt 4: What oil do users like to use at season transition times? ===\n",
            "\n",
            "--- Running pipeline a: Base LLM (no RAG) ---\n",
            "---DECISION: Using pipeline 'a'---\n",
            "Node 'choose_pipeline' visited. State keys: ['pipeline_choice']\n",
            "---ANSWER QUERY WITH SIMPLE LLM SUMMARIZER---\n",
            "Node 'llm_summarize' visited. State keys: ['query', 'pipeline_choice', 'summary']\n",
            "\n",
            "Final Summary:\n",
            "('During season transition times, many users prefer to use a multi-grade oil, '\n",
            " 'such as 5W-30 or 10W-30. These oils provide good performance in both cold '\n",
            " 'and warm temperatures, making them suitable for use as the weather changes. '\n",
            " \"It's important to consult your vehicle's owner's manual to determine the \"\n",
            " 'recommended oil viscosity for your specific make and model.')\n",
            "\n",
            "--- Running pipeline b: Basic RAG (retriever + LLM summarizer) ---\n",
            "---DECISION: Using pipeline 'b'---\n",
            "Node 'choose_pipeline' visited. State keys: ['pipeline_choice']\n",
            "---RETRIEVE REVIEWS---\n",
            "Node 'base_rag_retrieve' visited. State keys: ['query', 'pipeline_choice', 'reviews']\n",
            "---ANSWER QUERY WITH RAG+LLM SUMMARIZER---\n",
            "Node 'rag_llm_summarize' visited. State keys: ['query', 'pipeline_choice', 'reviews', 'summary']\n",
            "\n",
            "Final Summary:\n",
            "('Users like to use face oils, such as the Sunday Riley Juno Antioxidant + '\n",
            " 'Superfood Face Oil, during season transition times for added hydration and '\n",
            " 'nourishment to the skin.')\n",
            "\n",
            "--- Running pipeline c: Advanced agentic RAG with base model (no fine-tuning) ---\n",
            "---DECISION: Using pipeline 'c'---\n",
            "Node 'choose_pipeline' visited. State keys: ['pipeline_choice']\n",
            "---REWRITE QUERY---\n",
            "Node 'rewrite_query' visited. State keys: ['query', 'pipeline_choice']\n",
            "---RETRIEVE REVIEWS---\n",
            "Node 'advanced_rag_retrieve' visited. State keys: ['query', 'pipeline_choice', 'reviews']\n",
            "---ANALYZE SENTIMENT WITH BASE MODEL---\n",
            "Node 'analyze_sentiment_base' visited. State keys: ['query', 'pipeline_choice', 'reviews', 'sentiment']\n",
            "---ANSWER QUERY WITH AGENTIC RAG+SENTIMENT SUMMARIZER---\n",
            "Node 'agentic_rag_llm_summarize' visited. State keys: ['query', 'pipeline_choice', 'reviews', 'sentiment', 'summary']\n",
            "\n",
            "Final Summary:\n",
            "('Based on user reviews, the recommended oil for use during seasonal '\n",
            " 'transitions is one that caters to various skin types and concerns. Users '\n",
            " 'have found oils that work well for oily skin, dry skin, sensitive skin, and '\n",
            " 'combination skin during different weather conditions.\\n'\n",
            " '\\n'\n",
            " '1. For oily skin: Users with oily skin have recommended an oil that helps '\n",
            " 'control oiliness, reduces blackheads, and keeps the skin feeling clean and '\n",
            " 'refreshed without being too greasy.\\n'\n",
            " '\\n'\n",
            " '2. For dry skin: Users with dry skin have praised an oil that provides '\n",
            " 'hydration, helps with dryness, and keeps the skin supple during colder '\n",
            " 'weather months. It can be layered over serum or moisturizer for added '\n",
            " 'benefits.\\n'\n",
            " '\\n'\n",
            " '3. For sensitive skin: Users with sensitive skin have appreciated an oil '\n",
            " 'that is gentle, does not sting the eyes, and helps with dryness without '\n",
            " 'causing any irritation.\\n'\n",
            " '\\n'\n",
            " 'Overall, the reviews suggest that the ideal oil for seasonal transitions '\n",
            " 'should be versatile, providing hydration, controlling oiliness, and '\n",
            " 'addressing specific skin concerns while being gentle and effective.')\n",
            "\n",
            "--- Running pipeline d: Advanced agentic RAG with fine-tuned model ---\n",
            "---DECISION: Using pipeline 'd'---\n",
            "Node 'choose_pipeline' visited. State keys: ['pipeline_choice']\n",
            "---REWRITE QUERY---\n",
            "Node 'rewrite_query' visited. State keys: ['query', 'pipeline_choice']\n",
            "---RETRIEVE REVIEWS---\n",
            "Node 'advanced_rag_retrieve' visited. State keys: ['query', 'pipeline_choice', 'reviews']\n",
            "---ANALYZE SENTIMENT WITH LORA MODEL---\n"
          ]
        },
        {
          "name": "stderr",
          "output_type": "stream",
          "text": [
            "/usr/local/lib/python3.11/dist-packages/peft/config.py:162: UserWarning: Unexpected keyword arguments ['corda_config', 'trainable_token_indices'] for class LoraConfig, these are ignored. This probably means that you're loading a configuration file that was saved using a higher version of the library and additional parameters have been introduced since. It is highly recommended to upgrade the PEFT version before continuing (e.g. by running `pip install -U peft`).\n",
            "  warnings.warn(\n"
          ]
        },
        {
          "name": "stdout",
          "output_type": "stream",
          "text": [
            "Node 'analyze_sentiment_lora' visited. State keys: ['query', 'pipeline_choice', 'reviews', 'sentiment']\n",
            "---ANSWER QUERY WITH AGENTIC RAG+SENTIMENT SUMMARIZER---\n",
            "Node 'agentic_rag_llm_summarize' visited. State keys: ['query', 'pipeline_choice', 'reviews', 'sentiment', 'summary']\n",
            "\n",
            "Final Summary:\n",
            "('Based on the reviews analyzed, it seems that users prefer using oil-based '\n",
            " 'products during seasonal transitions, particularly those with oily skin. \\n'\n",
            " '\\n'\n",
            " 'Review #1 and Review #2 express positive sentiments towards an oil-based '\n",
            " 'product, highlighting its effectiveness in controlling oiliness and '\n",
            " 'improving skin condition, especially for oily skin types. Review #3, '\n",
            " 'although not entirely negative, suggests that the oil-based product may be '\n",
            " 'too drying for those living in a desert climate, but it is still recommended '\n",
            " 'for oily skin types. Review #4 mentions positive results for sensitive, dry '\n",
            " 'skin, indicating that the oil worked well during winter. Review #5 also '\n",
            " 'shows positive feedback on the oil-based product, indicating noticeable '\n",
            " 'improvements in troubled areas.\\n'\n",
            " '\\n'\n",
            " 'Overall, the reviews suggest that users prefer oil-based products during '\n",
            " 'seasonal transitions, especially if they have oily skin or sensitive, dry '\n",
            " 'skin. The majority of the reviews express satisfaction with the products, '\n",
            " 'recommending them for various skin types and conditions during seasonal '\n",
            " 'changes.')\n",
            "\n",
            "====================================\n",
            "\n",
            "=== Running Test Prompt 5: Which are users complaining about the powder, and why? ===\n",
            "\n",
            "--- Running pipeline a: Base LLM (no RAG) ---\n",
            "---DECISION: Using pipeline 'a'---\n",
            "Node 'choose_pipeline' visited. State keys: ['pipeline_choice']\n",
            "---ANSWER QUERY WITH SIMPLE LLM SUMMARIZER---\n",
            "Node 'llm_summarize' visited. State keys: ['query', 'pipeline_choice', 'summary']\n",
            "\n",
            "Final Summary:\n",
            "('Users are complaining about the powder mainly due to its poor quality. Some '\n",
            " 'common reasons for complaints include the powder not blending well, uneven '\n",
            " \"coverage, causing skin irritation, or not lasting long enough. It's \"\n",
            " 'important to consider these factors before purchasing a powder product to '\n",
            " 'ensure it meets your needs and preferences.')\n",
            "\n",
            "--- Running pipeline b: Basic RAG (retriever + LLM summarizer) ---\n",
            "---DECISION: Using pipeline 'b'---\n",
            "Node 'choose_pipeline' visited. State keys: ['pipeline_choice']\n",
            "---RETRIEVE REVIEWS---\n",
            "Node 'base_rag_retrieve' visited. State keys: ['query', 'pipeline_choice', 'reviews']\n",
            "---ANSWER QUERY WITH RAG+LLM SUMMARIZER---\n",
            "Node 'rag_llm_summarize' visited. State keys: ['query', 'pipeline_choice', 'reviews', 'summary']\n",
            "\n",
            "Final Summary:\n",
            "('Users are complaining about the powder due to issues such as bad texture, '\n",
            " 'stickiness even after a while, glass shards found in the formula, disgusting '\n",
            " 'growth inside the bottle, and a strong scent that they dislike.')\n",
            "\n",
            "--- Running pipeline c: Advanced agentic RAG with base model (no fine-tuning) ---\n",
            "---DECISION: Using pipeline 'c'---\n",
            "Node 'choose_pipeline' visited. State keys: ['pipeline_choice']\n",
            "---REWRITE QUERY---\n",
            "Node 'rewrite_query' visited. State keys: ['query', 'pipeline_choice']\n",
            "---RETRIEVE REVIEWS---\n",
            "Node 'advanced_rag_retrieve' visited. State keys: ['query', 'pipeline_choice', 'reviews']\n",
            "---ANALYZE SENTIMENT WITH BASE MODEL---\n",
            "Node 'analyze_sentiment_base' visited. State keys: ['query', 'pipeline_choice', 'reviews', 'sentiment']\n",
            "---ANSWER QUERY WITH AGENTIC RAG+SENTIMENT SUMMARIZER---\n",
            "Node 'agentic_rag_llm_summarize' visited. State keys: ['query', 'pipeline_choice', 'reviews', 'sentiment', 'summary']\n",
            "\n",
            "Final Summary:\n",
            "('Based on the reviews analyzed, users are complaining about the powder for '\n",
            " 'various reasons. Some users have expressed dissatisfaction with the texture, '\n",
            " 'stating that it is bad, sticky, and unpleasant even the next morning. Others '\n",
            " 'have reported negative effects on their skin, such as burning and splotches. '\n",
            " 'Furthermore, a faulty bottle issue was raised by a user, causing difficulty '\n",
            " 'in dispensing the product.\\n'\n",
            " '\\n'\n",
            " 'In summary, users are complaining about the powder due to its bad texture, '\n",
            " 'negative effects on the skin, and issues with the packaging.')\n",
            "\n",
            "--- Running pipeline d: Advanced agentic RAG with fine-tuned model ---\n",
            "---DECISION: Using pipeline 'd'---\n",
            "Node 'choose_pipeline' visited. State keys: ['pipeline_choice']\n",
            "---REWRITE QUERY---\n",
            "Node 'rewrite_query' visited. State keys: ['query', 'pipeline_choice']\n",
            "---RETRIEVE REVIEWS---\n",
            "Node 'advanced_rag_retrieve' visited. State keys: ['query', 'pipeline_choice', 'reviews']\n",
            "---ANALYZE SENTIMENT WITH LORA MODEL---\n"
          ]
        },
        {
          "name": "stderr",
          "output_type": "stream",
          "text": [
            "/usr/local/lib/python3.11/dist-packages/peft/config.py:162: UserWarning: Unexpected keyword arguments ['corda_config', 'trainable_token_indices'] for class LoraConfig, these are ignored. This probably means that you're loading a configuration file that was saved using a higher version of the library and additional parameters have been introduced since. It is highly recommended to upgrade the PEFT version before continuing (e.g. by running `pip install -U peft`).\n",
            "  warnings.warn(\n"
          ]
        },
        {
          "name": "stdout",
          "output_type": "stream",
          "text": [
            "Node 'analyze_sentiment_lora' visited. State keys: ['query', 'pipeline_choice', 'reviews', 'sentiment']\n",
            "---ANSWER QUERY WITH AGENTIC RAG+SENTIMENT SUMMARIZER---\n",
            "Node 'agentic_rag_llm_summarize' visited. State keys: ['query', 'pipeline_choice', 'reviews', 'sentiment', 'summary']\n",
            "\n",
            "Final Summary:\n",
            "('Based on the reviews analyzed, the complaints about the powder are as '\n",
            " 'follows:\\n'\n",
            " '\\n'\n",
            " '1. Review #2: The user experienced burning and splotches under their eyes '\n",
            " 'after using the powder. They were disappointed with the product and advised '\n",
            " 'others to test it first.\\n'\n",
            " '2. Review #4: Another user disliked the texture of the powder, describing it '\n",
            " 'as bad and sticky, even the next morning.\\n'\n",
            " '\\n'\n",
            " 'Overall, users complained about experiencing adverse reactions such as '\n",
            " 'burning and splotches, as well as disliking the texture of the powder. These '\n",
            " 'negative aspects led to disappointment and dissatisfaction among users who '\n",
            " 'left these reviews.')\n",
            "\n",
            "====================================\n"
          ]
        }
      ],
      "source": [
        "from pprint import pprint\n",
        "test_prompts = [\n",
        "    \"What is the most suitable sunscreen product for sensitive skin in Sephora?\",\n",
        "    \"How do users feel about lipstick products in Sephora based on the reviews?\",\n",
        "    \"Which are the most trendy types of perfume, and how do users feel about them?\",\n",
        "    \"What oil do users like to use at season transition times?\",\n",
        "    \"Which are users complaining about the powder, and why?\"\n",
        "]\n",
        "\n",
        "def run_tests():\n",
        "    \"\"\"\n",
        "    Run the compiled pipeline in streaming mode for each test prompt and for each pipeline variant.\n",
        "    Prints intermediate node outputs and the final summary.\n",
        "\n",
        "    Pipeline choices:\n",
        "      a. Base LLM (no RAG)\n",
        "      b. Basic RAG (retriever + LLM summarizer)\n",
        "      c. Advanced agentic RAG with base model (no fine-tuning)\n",
        "      d. Advanced agentic RAG with fine-tuned model\n",
        "    \"\"\"\n",
        "    runconfig = {\"recursion_limit\": 50}\n",
        "    pipeline_choices = ['a', 'b', 'c', 'd']\n",
        "    pipeline_names = {'a':'Base LLM (no RAG)', 'b': 'Basic RAG (retriever + LLM summarizer)', 'c':'Advanced agentic RAG with base model (no fine-tuning)', 'd': 'Advanced agentic RAG with fine-tuned model'}\n",
        "\n",
        "    for idx, prompt in enumerate(test_prompts, start=1):\n",
        "        print(f\"\\n=== Running Test Prompt {idx}: {prompt} ===\")\n",
        "        for choice in pipeline_choices:\n",
        "            pipeline_name = pipeline_names[choice]\n",
        "            print(f\"\\n--- Running pipeline {choice}: {pipeline_name} ---\")\n",
        "            # Set initial state with the prompt and the chosen pipeline\n",
        "            inputs = {\n",
        "                \"query\": prompt,\n",
        "                \"pipeline_choice\": choice,\n",
        "                #\"reviews\": [],\n",
        "                #\"sentiment\": [],\n",
        "                #\"summary\": \"\"\n",
        "            }\n",
        "            final_output = None\n",
        "\n",
        "            # Stream execution: each yield is a dict {node_name: state_dict}\n",
        "            for output in compiled_graph.stream(inputs, config=runconfig):\n",
        "                for node_name, state_dict in output.items():\n",
        "                    print(f\"Node '{node_name}' visited. State keys: {list(state_dict.keys())}\")\n",
        "                    final_output = state_dict\n",
        "\n",
        "            if final_output and \"summary\" in final_output:\n",
        "                print(\"\\nFinal Summary:\")\n",
        "                pprint(final_output[\"summary\"])\n",
        "            else:\n",
        "                print(\"\\nNo 'summary' key found in the final output.\")\n",
        "\n",
        "        print(\"\\n====================================\")\n",
        "\n",
        "if __name__ == \"__main__\":\n",
        "    run_tests()"
      ]
    }
  ],
  "metadata": {
    "colab": {
      "include_colab_link": true,
      "machine_shape": "hm",
      "provenance": [],
      "toc_visible": true
    },
    "kernelspec": {
      "display_name": "Python 3",
      "name": "python3"
    },
    "language_info": {
      "codemirror_mode": {
        "name": "ipython",
        "version": 3
      },
      "file_extension": ".py",
      "mimetype": "text/x-python",
      "name": "python",
      "nbconvert_exporter": "python",
      "pygments_lexer": "ipython3",
      "version": "3.11.10"
    }
  },
  "nbformat": 4,
  "nbformat_minor": 0
}
